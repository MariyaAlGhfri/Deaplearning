{
 "cells": [
  {
   "cell_type": "code",
   "execution_count": 1,
   "id": "f9854bb6",
   "metadata": {},
   "outputs": [],
   "source": [
    "import tensorflow as tf "
   ]
  },
  {
   "cell_type": "code",
   "execution_count": 2,
   "id": "9c24d89a",
   "metadata": {},
   "outputs": [
    {
     "data": {
      "text/plain": [
       "TensorShape([1, 28, 28, 1])"
      ]
     },
     "execution_count": 2,
     "metadata": {},
     "output_type": "execute_result"
    }
   ],
   "source": [
    "img = tf.random.uniform([1, 28, 28, 1])\n",
    "img.shape"
   ]
  },
  {
   "cell_type": "code",
   "execution_count": 3,
   "id": "50c1b24b",
   "metadata": {},
   "outputs": [],
   "source": [
    "conv = tf.keras.layers.Conv2D(10, kernel_size=3, padding=\"valid\", strides=1)"
   ]
  },
  {
   "cell_type": "code",
   "execution_count": 4,
   "id": "9471d862",
   "metadata": {},
   "outputs": [],
   "source": [
    "out = conv(img)"
   ]
  },
  {
   "cell_type": "code",
   "execution_count": 5,
   "id": "73e05d36",
   "metadata": {},
   "outputs": [
    {
     "data": {
      "text/plain": [
       "TensorShape([1, 26, 26, 10])"
      ]
     },
     "execution_count": 5,
     "metadata": {},
     "output_type": "execute_result"
    }
   ],
   "source": [
    "out.shape "
   ]
  },
  {
   "cell_type": "code",
   "execution_count": 6,
   "id": "3370f0b0",
   "metadata": {},
   "outputs": [
    {
     "data": {
      "text/plain": [
       "TensorShape([3, 3, 1, 10])"
      ]
     },
     "execution_count": 6,
     "metadata": {},
     "output_type": "execute_result"
    }
   ],
   "source": [
    "# how many weights in the layer?\n",
    "conv.weights[0].shape"
   ]
  },
  {
   "cell_type": "code",
   "execution_count": 8,
   "id": "e3a60ec9",
   "metadata": {},
   "outputs": [],
   "source": [
    "p = tf.keras.layers.MaxPool2D()"
   ]
  },
  {
   "cell_type": "code",
   "execution_count": 12,
   "id": "0e163864",
   "metadata": {},
   "outputs": [
    {
     "data": {
      "text/plain": [
       "TensorShape([1, 14, 14, 1])"
      ]
     },
     "execution_count": 12,
     "metadata": {},
     "output_type": "execute_result"
    }
   ],
   "source": [
    "p(img).shape "
   ]
  },
  {
   "cell_type": "code",
   "execution_count": 10,
   "id": "e2e44fb9",
   "metadata": {},
   "outputs": [
    {
     "data": {
      "text/plain": [
       "[]"
      ]
     },
     "execution_count": 10,
     "metadata": {},
     "output_type": "execute_result"
    }
   ],
   "source": [
    "p.weights "
   ]
  },
  {
   "cell_type": "code",
   "execution_count": null,
   "id": "25e3caee",
   "metadata": {},
   "outputs": [],
   "source": []
  },
  {
   "cell_type": "code",
   "execution_count": null,
   "id": "21103f98",
   "metadata": {},
   "outputs": [],
   "source": []
  },
  {
   "cell_type": "code",
   "execution_count": null,
   "id": "0735e956",
   "metadata": {},
   "outputs": [],
   "source": []
  },
  {
   "cell_type": "code",
   "execution_count": null,
   "id": "93ca3872",
   "metadata": {},
   "outputs": [],
   "source": []
  },
  {
   "cell_type": "code",
   "execution_count": null,
   "id": "dde3eb71",
   "metadata": {},
   "outputs": [],
   "source": []
  },
  {
   "cell_type": "code",
   "execution_count": null,
   "id": "4bb15a99",
   "metadata": {},
   "outputs": [],
   "source": []
  }
 ],
 "metadata": {
  "kernelspec": {
   "display_name": "Python 3 (ipykernel)",
   "language": "python",
   "name": "python3"
  },
  "language_info": {
   "codemirror_mode": {
    "name": "ipython",
    "version": 3
   },
   "file_extension": ".py",
   "mimetype": "text/x-python",
   "name": "python",
   "nbconvert_exporter": "python",
   "pygments_lexer": "ipython3",
   "version": "3.10.9"
  }
 },
 "nbformat": 4,
 "nbformat_minor": 5
}
