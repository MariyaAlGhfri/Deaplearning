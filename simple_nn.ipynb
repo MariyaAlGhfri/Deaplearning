{
 "cells": [
  {
   "cell_type": "code",
   "execution_count": 2,
   "id": "9889b940",
   "metadata": {},
   "outputs": [],
   "source": [
    "import tensorflow as tf "
   ]
  },
  {
   "cell_type": "code",
   "execution_count": 30,
   "id": "be5bc07d",
   "metadata": {},
   "outputs": [],
   "source": [
    "X = tf.random.uniform((100, 5))\n",
    "y = (X + 5) * 0.3"
   ]
  },
  {
   "cell_type": "code",
   "execution_count": 31,
   "id": "0b53caaf",
   "metadata": {},
   "outputs": [
    {
     "data": {
      "text/plain": [
       "(tensorflow.python.framework.ops.EagerTensor,\n",
       " tensorflow.python.framework.ops.EagerTensor)"
      ]
     },
     "execution_count": 31,
     "metadata": {},
     "output_type": "execute_result"
    }
   ],
   "source": [
    "type(X), type(y) "
   ]
  },
  {
   "cell_type": "code",
   "execution_count": 32,
   "id": "361081f2",
   "metadata": {},
   "outputs": [
    {
     "data": {
      "text/plain": [
       "(TensorShape([100, 5]), TensorShape([100, 5]))"
      ]
     },
     "execution_count": 32,
     "metadata": {},
     "output_type": "execute_result"
    }
   ],
   "source": [
    "X.shape, y.shape "
   ]
  },
  {
   "cell_type": "code",
   "execution_count": 33,
   "id": "84eee441",
   "metadata": {},
   "outputs": [],
   "source": [
    "#Define a simple Neural Network\n",
    "model =  tf.keras.Sequential([\n",
    "    tf.keras.layers.Input(name=\"InputLayer\", shape=[1]),\n",
    "    tf.keras.layers.Dense(100, name=\"Layer1\"),\n",
    "    tf.keras.layers.Dense(1, name=\"outputLayer2\"),\n",
    " ])"
   ]
  },
  {
   "cell_type": "code",
   "execution_count": 35,
   "id": "39df87b5",
   "metadata": {},
   "outputs": [
    {
     "name": "stdout",
     "output_type": "stream",
     "text": [
      "Model: \"sequential_2\"\n",
      "_________________________________________________________________\n",
      " Layer (type)                Output Shape              Param #   \n",
      "=================================================================\n",
      " Layer1 (Dense)              (None, 100)               200       \n",
      "                                                                 \n",
      " outputLayer2 (Dense)        (None, 1)                 101       \n",
      "                                                                 \n",
      "=================================================================\n",
      "Total params: 301 (1.18 KB)\n",
      "Trainable params: 301 (1.18 KB)\n",
      "Non-trainable params: 0 (0.00 Byte)\n",
      "_________________________________________________________________\n"
     ]
    }
   ],
   "source": [
    " model.summary()"
   ]
  },
  {
   "cell_type": "code",
   "execution_count": 36,
   "id": "4883a055",
   "metadata": {},
   "outputs": [
    {
     "data": {
      "text/plain": [
       "TensorShape([1, 100])"
      ]
     },
     "execution_count": 36,
     "metadata": {},
     "output_type": "execute_result"
    }
   ],
   "source": [
    " model.layers[0].weights[0].shape"
   ]
  },
  {
   "cell_type": "code",
   "execution_count": 28,
   "id": "97b514fd",
   "metadata": {},
   "outputs": [],
   "source": [
    "#Train Neural Network\n",
    "model.compile(loss=\"MSE\", optimizer=\"adam\") "
   ]
  },
  {
   "cell_type": "code",
   "execution_count": 29,
   "id": "7b770df6",
   "metadata": {
    "scrolled": false
   },
   "outputs": [
    {
     "name": "stdout",
     "output_type": "stream",
     "text": [
      "Epoch 1/100\n"
     ]
    },
    {
     "ename": "ValueError",
     "evalue": "in user code:\n\n    File \"C:\\Users\\Mariya\\anaconda3\\lib\\site-packages\\keras\\src\\engine\\training.py\", line 1338, in train_function  *\n        return step_function(self, iterator)\n    File \"C:\\Users\\Mariya\\anaconda3\\lib\\site-packages\\keras\\src\\engine\\training.py\", line 1322, in step_function  **\n        outputs = model.distribute_strategy.run(run_step, args=(data,))\n    File \"C:\\Users\\Mariya\\anaconda3\\lib\\site-packages\\keras\\src\\engine\\training.py\", line 1303, in run_step  **\n        outputs = model.train_step(data)\n    File \"C:\\Users\\Mariya\\anaconda3\\lib\\site-packages\\keras\\src\\engine\\training.py\", line 1080, in train_step\n        y_pred = self(x, training=True)\n    File \"C:\\Users\\Mariya\\anaconda3\\lib\\site-packages\\keras\\src\\utils\\traceback_utils.py\", line 70, in error_handler\n        raise e.with_traceback(filtered_tb) from None\n    File \"C:\\Users\\Mariya\\anaconda3\\lib\\site-packages\\keras\\src\\engine\\input_spec.py\", line 280, in assert_input_compatibility\n        raise ValueError(\n\n    ValueError: Exception encountered when calling layer 'sequential_1' (type Sequential).\n    \n    Input 0 of layer \"Layer1\" is incompatible with the layer: expected axis -1 of input shape to have value 1, but received input with shape (None, 5)\n    \n    Call arguments received by layer 'sequential_1' (type Sequential):\n      • inputs=tf.Tensor(shape=(None, 5), dtype=float32)\n      • training=True\n      • mask=None\n",
     "output_type": "error",
     "traceback": [
      "\u001b[1;31m---------------------------------------------------------------------------\u001b[0m",
      "\u001b[1;31mValueError\u001b[0m                                Traceback (most recent call last)",
      "Cell \u001b[1;32mIn[29], line 1\u001b[0m\n\u001b[1;32m----> 1\u001b[0m \u001b[43mmodel\u001b[49m\u001b[38;5;241;43m.\u001b[39;49m\u001b[43mfit\u001b[49m\u001b[43m(\u001b[49m\u001b[43mX\u001b[49m\u001b[43m,\u001b[49m\u001b[43m \u001b[49m\u001b[43my\u001b[49m\u001b[43m,\u001b[49m\u001b[43m \u001b[49m\u001b[43mepochs\u001b[49m\u001b[38;5;241;43m=\u001b[39;49m\u001b[38;5;241;43m100\u001b[39;49m\u001b[43m)\u001b[49m\n",
      "File \u001b[1;32m~\\anaconda3\\lib\\site-packages\\keras\\src\\utils\\traceback_utils.py:70\u001b[0m, in \u001b[0;36mfilter_traceback.<locals>.error_handler\u001b[1;34m(*args, **kwargs)\u001b[0m\n\u001b[0;32m     67\u001b[0m     filtered_tb \u001b[38;5;241m=\u001b[39m _process_traceback_frames(e\u001b[38;5;241m.\u001b[39m__traceback__)\n\u001b[0;32m     68\u001b[0m     \u001b[38;5;66;03m# To get the full stack trace, call:\u001b[39;00m\n\u001b[0;32m     69\u001b[0m     \u001b[38;5;66;03m# `tf.debugging.disable_traceback_filtering()`\u001b[39;00m\n\u001b[1;32m---> 70\u001b[0m     \u001b[38;5;28;01mraise\u001b[39;00m e\u001b[38;5;241m.\u001b[39mwith_traceback(filtered_tb) \u001b[38;5;28;01mfrom\u001b[39;00m \u001b[38;5;28mNone\u001b[39m\n\u001b[0;32m     71\u001b[0m \u001b[38;5;28;01mfinally\u001b[39;00m:\n\u001b[0;32m     72\u001b[0m     \u001b[38;5;28;01mdel\u001b[39;00m filtered_tb\n",
      "File \u001b[1;32m~\\AppData\\Local\\Temp\\__autograph_generated_fileird34hht.py:15\u001b[0m, in \u001b[0;36mouter_factory.<locals>.inner_factory.<locals>.tf__train_function\u001b[1;34m(iterator)\u001b[0m\n\u001b[0;32m     13\u001b[0m \u001b[38;5;28;01mtry\u001b[39;00m:\n\u001b[0;32m     14\u001b[0m     do_return \u001b[38;5;241m=\u001b[39m \u001b[38;5;28;01mTrue\u001b[39;00m\n\u001b[1;32m---> 15\u001b[0m     retval_ \u001b[38;5;241m=\u001b[39m ag__\u001b[38;5;241m.\u001b[39mconverted_call(ag__\u001b[38;5;241m.\u001b[39mld(step_function), (ag__\u001b[38;5;241m.\u001b[39mld(\u001b[38;5;28mself\u001b[39m), ag__\u001b[38;5;241m.\u001b[39mld(iterator)), \u001b[38;5;28;01mNone\u001b[39;00m, fscope)\n\u001b[0;32m     16\u001b[0m \u001b[38;5;28;01mexcept\u001b[39;00m:\n\u001b[0;32m     17\u001b[0m     do_return \u001b[38;5;241m=\u001b[39m \u001b[38;5;28;01mFalse\u001b[39;00m\n",
      "\u001b[1;31mValueError\u001b[0m: in user code:\n\n    File \"C:\\Users\\Mariya\\anaconda3\\lib\\site-packages\\keras\\src\\engine\\training.py\", line 1338, in train_function  *\n        return step_function(self, iterator)\n    File \"C:\\Users\\Mariya\\anaconda3\\lib\\site-packages\\keras\\src\\engine\\training.py\", line 1322, in step_function  **\n        outputs = model.distribute_strategy.run(run_step, args=(data,))\n    File \"C:\\Users\\Mariya\\anaconda3\\lib\\site-packages\\keras\\src\\engine\\training.py\", line 1303, in run_step  **\n        outputs = model.train_step(data)\n    File \"C:\\Users\\Mariya\\anaconda3\\lib\\site-packages\\keras\\src\\engine\\training.py\", line 1080, in train_step\n        y_pred = self(x, training=True)\n    File \"C:\\Users\\Mariya\\anaconda3\\lib\\site-packages\\keras\\src\\utils\\traceback_utils.py\", line 70, in error_handler\n        raise e.with_traceback(filtered_tb) from None\n    File \"C:\\Users\\Mariya\\anaconda3\\lib\\site-packages\\keras\\src\\engine\\input_spec.py\", line 280, in assert_input_compatibility\n        raise ValueError(\n\n    ValueError: Exception encountered when calling layer 'sequential_1' (type Sequential).\n    \n    Input 0 of layer \"Layer1\" is incompatible with the layer: expected axis -1 of input shape to have value 1, but received input with shape (None, 5)\n    \n    Call arguments received by layer 'sequential_1' (type Sequential):\n      • inputs=tf.Tensor(shape=(None, 5), dtype=float32)\n      • training=True\n      • mask=None\n"
     ]
    }
   ],
   "source": [
    "model.fit(X, y, epochs=100)"
   ]
  },
  {
   "cell_type": "code",
   "execution_count": 22,
   "id": "33d1afa2",
   "metadata": {},
   "outputs": [
    {
     "data": {
      "text/plain": [
       "[<tf.Variable 'Layer1/kernel:0' shape=(1, 100) dtype=float32, numpy=\n",
       " array([[ 0.13413534,  0.12848163,  0.16495648,  0.17582634, -0.2307949 ,\n",
       "         -0.1604501 , -0.18480168, -0.07393377,  0.07082254,  0.14547518,\n",
       "          0.21597213, -0.15947658,  0.13497671,  0.06117809,  0.20022666,\n",
       "          0.05247715, -0.22279786, -0.21283539, -0.21832857, -0.13086107,\n",
       "          0.04326773,  0.10017994,  0.08745396, -0.03091882,  0.17507073,\n",
       "          0.0391334 ,  0.22278833, -0.00686954, -0.09971446, -0.24328485,\n",
       "         -0.17746824,  0.01758006, -0.13738772,  0.05448794, -0.03253564,\n",
       "          0.13423184,  0.00423679,  0.03859359, -0.09419809,  0.14094204,\n",
       "         -0.21017677,  0.10969913,  0.00644016,  0.10950035,  0.09951225,\n",
       "         -0.00507624, -0.21757436,  0.11746636,  0.23489398,  0.18361652,\n",
       "          0.10764122, -0.13108125, -0.14336643,  0.06363884,  0.02160621,\n",
       "          0.08730245, -0.10794303,  0.08787194,  0.14923564, -0.11635454,\n",
       "         -0.00514109,  0.18046531,  0.19321123, -0.06501427,  0.05695474,\n",
       "          0.07924095,  0.18043455,  0.02097034,  0.20170826, -0.00141017,\n",
       "         -0.22304581,  0.08937368, -0.22718962,  0.10307342, -0.1458081 ,\n",
       "         -0.23332998,  0.23936754,  0.0017013 , -0.17936434,  0.06447902,\n",
       "         -0.1188365 ,  0.13133845, -0.02371335,  0.19721746,  0.15354395,\n",
       "          0.24081683,  0.02908897, -0.23202227,  0.01594564, -0.02986912,\n",
       "         -0.04157625,  0.13630867, -0.10747112,  0.19320285,  0.1788755 ,\n",
       "         -0.0061987 ,  0.00420442,  0.03176439,  0.17302862, -0.17820242]],\n",
       "       dtype=float32)>,\n",
       " <tf.Variable 'Layer1/bias:0' shape=(100,) dtype=float32, numpy=\n",
       " array([0., 0., 0., 0., 0., 0., 0., 0., 0., 0., 0., 0., 0., 0., 0., 0., 0.,\n",
       "        0., 0., 0., 0., 0., 0., 0., 0., 0., 0., 0., 0., 0., 0., 0., 0., 0.,\n",
       "        0., 0., 0., 0., 0., 0., 0., 0., 0., 0., 0., 0., 0., 0., 0., 0., 0.,\n",
       "        0., 0., 0., 0., 0., 0., 0., 0., 0., 0., 0., 0., 0., 0., 0., 0., 0.,\n",
       "        0., 0., 0., 0., 0., 0., 0., 0., 0., 0., 0., 0., 0., 0., 0., 0., 0.,\n",
       "        0., 0., 0., 0., 0., 0., 0., 0., 0., 0., 0., 0., 0., 0., 0.],\n",
       "       dtype=float32)>,\n",
       " <tf.Variable 'outputLayer2/kernel:0' shape=(100, 1) dtype=float32, numpy=\n",
       " array([[-0.14502668],\n",
       "        [ 0.22642553],\n",
       "        [-0.13600096],\n",
       "        [-0.18323496],\n",
       "        [ 0.10717684],\n",
       "        [-0.23987173],\n",
       "        [-0.12644595],\n",
       "        [ 0.12066925],\n",
       "        [-0.17610574],\n",
       "        [-0.12174493],\n",
       "        [ 0.09196404],\n",
       "        [ 0.08641905],\n",
       "        [-0.08012441],\n",
       "        [ 0.13809678],\n",
       "        [-0.18272348],\n",
       "        [ 0.06741196],\n",
       "        [-0.13103384],\n",
       "        [ 0.09373245],\n",
       "        [-0.02917773],\n",
       "        [ 0.15765977],\n",
       "        [-0.17916839],\n",
       "        [ 0.23125249],\n",
       "        [ 0.12361836],\n",
       "        [ 0.21412915],\n",
       "        [-0.03726089],\n",
       "        [-0.01076689],\n",
       "        [ 0.19628298],\n",
       "        [ 0.20599174],\n",
       "        [ 0.16997269],\n",
       "        [ 0.05573487],\n",
       "        [-0.18275172],\n",
       "        [-0.21580443],\n",
       "        [-0.16246632],\n",
       "        [-0.00612195],\n",
       "        [ 0.09203991],\n",
       "        [-0.22537953],\n",
       "        [ 0.20830527],\n",
       "        [ 0.149811  ],\n",
       "        [ 0.2425361 ],\n",
       "        [ 0.10699856],\n",
       "        [-0.19966386],\n",
       "        [-0.09949335],\n",
       "        [ 0.01773947],\n",
       "        [-0.14828321],\n",
       "        [-0.11032045],\n",
       "        [ 0.12251037],\n",
       "        [ 0.20406023],\n",
       "        [-0.07747346],\n",
       "        [ 0.12372801],\n",
       "        [ 0.04956087],\n",
       "        [-0.24012822],\n",
       "        [ 0.00780889],\n",
       "        [ 0.23037478],\n",
       "        [-0.1919913 ],\n",
       "        [-0.00463781],\n",
       "        [-0.23984371],\n",
       "        [ 0.15738797],\n",
       "        [ 0.12572655],\n",
       "        [-0.01079968],\n",
       "        [ 0.04153898],\n",
       "        [-0.10608768],\n",
       "        [-0.02054429],\n",
       "        [ 0.10915226],\n",
       "        [ 0.21999279],\n",
       "        [-0.22866958],\n",
       "        [ 0.12663963],\n",
       "        [ 0.01370543],\n",
       "        [ 0.22790486],\n",
       "        [ 0.20891204],\n",
       "        [-0.03850289],\n",
       "        [-0.19440073],\n",
       "        [-0.11625232],\n",
       "        [ 0.09626374],\n",
       "        [ 0.12283602],\n",
       "        [-0.1360234 ],\n",
       "        [ 0.13596523],\n",
       "        [-0.15486842],\n",
       "        [ 0.14806604],\n",
       "        [-0.11405255],\n",
       "        [-0.13629815],\n",
       "        [ 0.05860379],\n",
       "        [-0.13825816],\n",
       "        [-0.21540764],\n",
       "        [-0.1871368 ],\n",
       "        [-0.10938546],\n",
       "        [-0.16881123],\n",
       "        [-0.0427839 ],\n",
       "        [-0.00561121],\n",
       "        [ 0.04774264],\n",
       "        [-0.06112923],\n",
       "        [-0.01692429],\n",
       "        [-0.21156375],\n",
       "        [ 0.17962334],\n",
       "        [ 0.0497492 ],\n",
       "        [-0.10080317],\n",
       "        [ 0.02871498],\n",
       "        [-0.2182174 ],\n",
       "        [ 0.09597149],\n",
       "        [ 0.06740937],\n",
       "        [ 0.20617515]], dtype=float32)>,\n",
       " <tf.Variable 'outputLayer2/bias:0' shape=(1,) dtype=float32, numpy=array([0.], dtype=float32)>]"
      ]
     },
     "execution_count": 22,
     "metadata": {},
     "output_type": "execute_result"
    }
   ],
   "source": [
    "model.weights"
   ]
  },
  {
   "cell_type": "code",
   "execution_count": 23,
   "id": "a2d81455",
   "metadata": {},
   "outputs": [],
   "source": [
    "l = model.layers[0]"
   ]
  },
  {
   "cell_type": "code",
   "execution_count": 24,
   "id": "609c2ce1",
   "metadata": {},
   "outputs": [
    {
     "data": {
      "text/plain": [
       "[<tf.Variable 'Layer1/kernel:0' shape=(1, 100) dtype=float32, numpy=\n",
       " array([[ 0.13413534,  0.12848163,  0.16495648,  0.17582634, -0.2307949 ,\n",
       "         -0.1604501 , -0.18480168, -0.07393377,  0.07082254,  0.14547518,\n",
       "          0.21597213, -0.15947658,  0.13497671,  0.06117809,  0.20022666,\n",
       "          0.05247715, -0.22279786, -0.21283539, -0.21832857, -0.13086107,\n",
       "          0.04326773,  0.10017994,  0.08745396, -0.03091882,  0.17507073,\n",
       "          0.0391334 ,  0.22278833, -0.00686954, -0.09971446, -0.24328485,\n",
       "         -0.17746824,  0.01758006, -0.13738772,  0.05448794, -0.03253564,\n",
       "          0.13423184,  0.00423679,  0.03859359, -0.09419809,  0.14094204,\n",
       "         -0.21017677,  0.10969913,  0.00644016,  0.10950035,  0.09951225,\n",
       "         -0.00507624, -0.21757436,  0.11746636,  0.23489398,  0.18361652,\n",
       "          0.10764122, -0.13108125, -0.14336643,  0.06363884,  0.02160621,\n",
       "          0.08730245, -0.10794303,  0.08787194,  0.14923564, -0.11635454,\n",
       "         -0.00514109,  0.18046531,  0.19321123, -0.06501427,  0.05695474,\n",
       "          0.07924095,  0.18043455,  0.02097034,  0.20170826, -0.00141017,\n",
       "         -0.22304581,  0.08937368, -0.22718962,  0.10307342, -0.1458081 ,\n",
       "         -0.23332998,  0.23936754,  0.0017013 , -0.17936434,  0.06447902,\n",
       "         -0.1188365 ,  0.13133845, -0.02371335,  0.19721746,  0.15354395,\n",
       "          0.24081683,  0.02908897, -0.23202227,  0.01594564, -0.02986912,\n",
       "         -0.04157625,  0.13630867, -0.10747112,  0.19320285,  0.1788755 ,\n",
       "         -0.0061987 ,  0.00420442,  0.03176439,  0.17302862, -0.17820242]],\n",
       "       dtype=float32)>,\n",
       " <tf.Variable 'Layer1/bias:0' shape=(100,) dtype=float32, numpy=\n",
       " array([0., 0., 0., 0., 0., 0., 0., 0., 0., 0., 0., 0., 0., 0., 0., 0., 0.,\n",
       "        0., 0., 0., 0., 0., 0., 0., 0., 0., 0., 0., 0., 0., 0., 0., 0., 0.,\n",
       "        0., 0., 0., 0., 0., 0., 0., 0., 0., 0., 0., 0., 0., 0., 0., 0., 0.,\n",
       "        0., 0., 0., 0., 0., 0., 0., 0., 0., 0., 0., 0., 0., 0., 0., 0., 0.,\n",
       "        0., 0., 0., 0., 0., 0., 0., 0., 0., 0., 0., 0., 0., 0., 0., 0., 0.,\n",
       "        0., 0., 0., 0., 0., 0., 0., 0., 0., 0., 0., 0., 0., 0., 0.],\n",
       "       dtype=float32)>]"
      ]
     },
     "execution_count": 24,
     "metadata": {},
     "output_type": "execute_result"
    }
   ],
   "source": [
    "l.weights "
   ]
  },
  {
   "cell_type": "code",
   "execution_count": 25,
   "id": "ba1a0260",
   "metadata": {},
   "outputs": [
    {
     "ename": "InvalidArgumentError",
     "evalue": "{{function_node __wrapped__StridedSlice_device_/job:localhost/replica:0/task:0/device:CPU:0}} slice index 1 of dimension 0 out of bounds. [Op:StridedSlice] name: strided_slice/",
     "output_type": "error",
     "traceback": [
      "\u001b[1;31m---------------------------------------------------------------------------\u001b[0m",
      "\u001b[1;31mInvalidArgumentError\u001b[0m                      Traceback (most recent call last)",
      "Cell \u001b[1;32mIn[25], line 1\u001b[0m\n\u001b[1;32m----> 1\u001b[0m (\u001b[38;5;241m20.0\u001b[39m \u001b[38;5;241m*\u001b[39m l\u001b[38;5;241m.\u001b[39mweights[\u001b[38;5;241m0\u001b[39m][\u001b[38;5;241m0\u001b[39m]) \u001b[38;5;241m+\u001b[39m (\u001b[38;5;241m3.0\u001b[39m \u001b[38;5;241m*\u001b[39m \u001b[43ml\u001b[49m\u001b[38;5;241;43m.\u001b[39;49m\u001b[43mweights\u001b[49m\u001b[43m[\u001b[49m\u001b[38;5;241;43m0\u001b[39;49m\u001b[43m]\u001b[49m\u001b[43m[\u001b[49m\u001b[38;5;241;43m1\u001b[39;49m\u001b[43m]\u001b[49m) \u001b[38;5;241m+\u001b[39m ( l\u001b[38;5;241m.\u001b[39mweights[\u001b[38;5;241m1\u001b[39m])\n",
      "File \u001b[1;32m~\\anaconda3\\lib\\site-packages\\tensorflow\\python\\ops\\array_ops.py:1370\u001b[0m, in \u001b[0;36m_SliceHelperVar\u001b[1;34m(var, slice_spec)\u001b[0m\n\u001b[0;32m   1329\u001b[0m \u001b[38;5;28;01mdef\u001b[39;00m \u001b[38;5;21m_SliceHelperVar\u001b[39m(var, slice_spec):\n\u001b[0;32m   1330\u001b[0m   \u001b[38;5;124;03m\"\"\"Creates a slice helper object given a variable.\u001b[39;00m\n\u001b[0;32m   1331\u001b[0m \n\u001b[0;32m   1332\u001b[0m \u001b[38;5;124;03m  This allows creating a sub-tensor from part of the current contents\u001b[39;00m\n\u001b[1;32m   (...)\u001b[0m\n\u001b[0;32m   1367\u001b[0m \n\u001b[0;32m   1368\u001b[0m \u001b[38;5;124;03m  \"\"\"\u001b[39;00m\n\u001b[1;32m-> 1370\u001b[0m   \u001b[38;5;28;01mreturn\u001b[39;00m \u001b[43m_slice_helper\u001b[49m\u001b[43m(\u001b[49m\u001b[43mvar\u001b[49m\u001b[38;5;241;43m.\u001b[39;49m\u001b[43mvalue\u001b[49m\u001b[43m(\u001b[49m\u001b[43m)\u001b[49m\u001b[43m,\u001b[49m\u001b[43m \u001b[49m\u001b[43mslice_spec\u001b[49m\u001b[43m,\u001b[49m\u001b[43m \u001b[49m\u001b[43mvar\u001b[49m\u001b[43m)\u001b[49m\n",
      "File \u001b[1;32m~\\anaconda3\\lib\\site-packages\\tensorflow\\python\\util\\traceback_utils.py:153\u001b[0m, in \u001b[0;36mfilter_traceback.<locals>.error_handler\u001b[1;34m(*args, **kwargs)\u001b[0m\n\u001b[0;32m    151\u001b[0m \u001b[38;5;28;01mexcept\u001b[39;00m \u001b[38;5;167;01mException\u001b[39;00m \u001b[38;5;28;01mas\u001b[39;00m e:\n\u001b[0;32m    152\u001b[0m   filtered_tb \u001b[38;5;241m=\u001b[39m _process_traceback_frames(e\u001b[38;5;241m.\u001b[39m__traceback__)\n\u001b[1;32m--> 153\u001b[0m   \u001b[38;5;28;01mraise\u001b[39;00m e\u001b[38;5;241m.\u001b[39mwith_traceback(filtered_tb) \u001b[38;5;28;01mfrom\u001b[39;00m \u001b[38;5;28mNone\u001b[39m\n\u001b[0;32m    154\u001b[0m \u001b[38;5;28;01mfinally\u001b[39;00m:\n\u001b[0;32m    155\u001b[0m   \u001b[38;5;28;01mdel\u001b[39;00m filtered_tb\n",
      "File \u001b[1;32m~\\anaconda3\\lib\\site-packages\\tensorflow\\python\\framework\\ops.py:6656\u001b[0m, in \u001b[0;36mraise_from_not_ok_status\u001b[1;34m(e, name)\u001b[0m\n\u001b[0;32m   6654\u001b[0m \u001b[38;5;28;01mdef\u001b[39;00m \u001b[38;5;21mraise_from_not_ok_status\u001b[39m(e, name):\n\u001b[0;32m   6655\u001b[0m   e\u001b[38;5;241m.\u001b[39mmessage \u001b[38;5;241m+\u001b[39m\u001b[38;5;241m=\u001b[39m (\u001b[38;5;124m\"\u001b[39m\u001b[38;5;124m name: \u001b[39m\u001b[38;5;124m\"\u001b[39m \u001b[38;5;241m+\u001b[39m \u001b[38;5;28mstr\u001b[39m(name \u001b[38;5;28;01mif\u001b[39;00m name \u001b[38;5;129;01mis\u001b[39;00m \u001b[38;5;129;01mnot\u001b[39;00m \u001b[38;5;28;01mNone\u001b[39;00m \u001b[38;5;28;01melse\u001b[39;00m \u001b[38;5;124m\"\u001b[39m\u001b[38;5;124m\"\u001b[39m))\n\u001b[1;32m-> 6656\u001b[0m   \u001b[38;5;28;01mraise\u001b[39;00m core\u001b[38;5;241m.\u001b[39m_status_to_exception(e) \u001b[38;5;28;01mfrom\u001b[39;00m \u001b[38;5;28mNone\u001b[39m\n",
      "\u001b[1;31mInvalidArgumentError\u001b[0m: {{function_node __wrapped__StridedSlice_device_/job:localhost/replica:0/task:0/device:CPU:0}} slice index 1 of dimension 0 out of bounds. [Op:StridedSlice] name: strided_slice/"
     ]
    }
   ],
   "source": [
    "(20.0 * l.weights[0][0]) + (3.0 * l.weights[0][1]) + ( l.weights[1]) "
   ]
  },
  {
   "cell_type": "code",
   "execution_count": 37,
   "id": "e61f0296",
   "metadata": {},
   "outputs": [
    {
     "ename": "ValueError",
     "evalue": "in user code:\n\n    File \"C:\\Users\\Mariya\\anaconda3\\lib\\site-packages\\keras\\src\\engine\\training.py\", line 2341, in predict_function  *\n        return step_function(self, iterator)\n    File \"C:\\Users\\Mariya\\anaconda3\\lib\\site-packages\\keras\\src\\engine\\training.py\", line 2327, in step_function  **\n        outputs = model.distribute_strategy.run(run_step, args=(data,))\n    File \"C:\\Users\\Mariya\\anaconda3\\lib\\site-packages\\keras\\src\\engine\\training.py\", line 2315, in run_step  **\n        outputs = model.predict_step(data)\n    File \"C:\\Users\\Mariya\\anaconda3\\lib\\site-packages\\keras\\src\\engine\\training.py\", line 2283, in predict_step\n        return self(x, training=False)\n    File \"C:\\Users\\Mariya\\anaconda3\\lib\\site-packages\\keras\\src\\utils\\traceback_utils.py\", line 70, in error_handler\n        raise e.with_traceback(filtered_tb) from None\n    File \"C:\\Users\\Mariya\\anaconda3\\lib\\site-packages\\keras\\src\\engine\\input_spec.py\", line 280, in assert_input_compatibility\n        raise ValueError(\n\n    ValueError: Exception encountered when calling layer 'sequential_1' (type Sequential).\n    \n    Input 0 of layer \"Layer1\" is incompatible with the layer: expected axis -1 of input shape to have value 1, but received input with shape (None, 2)\n    \n    Call arguments received by layer 'sequential_1' (type Sequential):\n      • inputs=tf.Tensor(shape=(None, 2), dtype=float32)\n      • training=False\n      • mask=None\n",
     "output_type": "error",
     "traceback": [
      "\u001b[1;31m---------------------------------------------------------------------------\u001b[0m",
      "\u001b[1;31mValueError\u001b[0m                                Traceback (most recent call last)",
      "Cell \u001b[1;32mIn[37], line 1\u001b[0m\n\u001b[1;32m----> 1\u001b[0m \u001b[43mmodel\u001b[49m\u001b[38;5;241;43m.\u001b[39;49m\u001b[43mpredict\u001b[49m\u001b[43m(\u001b[49m\u001b[43m[\u001b[49m\u001b[43m[\u001b[49m\u001b[38;5;241;43m20.0\u001b[39;49m\u001b[43m,\u001b[49m\u001b[43m \u001b[49m\u001b[38;5;241;43m1.0\u001b[39;49m\u001b[43m]\u001b[49m\u001b[43m]\u001b[49m\u001b[43m)\u001b[49m\n",
      "File \u001b[1;32m~\\anaconda3\\lib\\site-packages\\keras\\src\\utils\\traceback_utils.py:70\u001b[0m, in \u001b[0;36mfilter_traceback.<locals>.error_handler\u001b[1;34m(*args, **kwargs)\u001b[0m\n\u001b[0;32m     67\u001b[0m     filtered_tb \u001b[38;5;241m=\u001b[39m _process_traceback_frames(e\u001b[38;5;241m.\u001b[39m__traceback__)\n\u001b[0;32m     68\u001b[0m     \u001b[38;5;66;03m# To get the full stack trace, call:\u001b[39;00m\n\u001b[0;32m     69\u001b[0m     \u001b[38;5;66;03m# `tf.debugging.disable_traceback_filtering()`\u001b[39;00m\n\u001b[1;32m---> 70\u001b[0m     \u001b[38;5;28;01mraise\u001b[39;00m e\u001b[38;5;241m.\u001b[39mwith_traceback(filtered_tb) \u001b[38;5;28;01mfrom\u001b[39;00m \u001b[38;5;28mNone\u001b[39m\n\u001b[0;32m     71\u001b[0m \u001b[38;5;28;01mfinally\u001b[39;00m:\n\u001b[0;32m     72\u001b[0m     \u001b[38;5;28;01mdel\u001b[39;00m filtered_tb\n",
      "File \u001b[1;32m~\\AppData\\Local\\Temp\\__autograph_generated_filedr7ufe96.py:15\u001b[0m, in \u001b[0;36mouter_factory.<locals>.inner_factory.<locals>.tf__predict_function\u001b[1;34m(iterator)\u001b[0m\n\u001b[0;32m     13\u001b[0m \u001b[38;5;28;01mtry\u001b[39;00m:\n\u001b[0;32m     14\u001b[0m     do_return \u001b[38;5;241m=\u001b[39m \u001b[38;5;28;01mTrue\u001b[39;00m\n\u001b[1;32m---> 15\u001b[0m     retval_ \u001b[38;5;241m=\u001b[39m ag__\u001b[38;5;241m.\u001b[39mconverted_call(ag__\u001b[38;5;241m.\u001b[39mld(step_function), (ag__\u001b[38;5;241m.\u001b[39mld(\u001b[38;5;28mself\u001b[39m), ag__\u001b[38;5;241m.\u001b[39mld(iterator)), \u001b[38;5;28;01mNone\u001b[39;00m, fscope)\n\u001b[0;32m     16\u001b[0m \u001b[38;5;28;01mexcept\u001b[39;00m:\n\u001b[0;32m     17\u001b[0m     do_return \u001b[38;5;241m=\u001b[39m \u001b[38;5;28;01mFalse\u001b[39;00m\n",
      "\u001b[1;31mValueError\u001b[0m: in user code:\n\n    File \"C:\\Users\\Mariya\\anaconda3\\lib\\site-packages\\keras\\src\\engine\\training.py\", line 2341, in predict_function  *\n        return step_function(self, iterator)\n    File \"C:\\Users\\Mariya\\anaconda3\\lib\\site-packages\\keras\\src\\engine\\training.py\", line 2327, in step_function  **\n        outputs = model.distribute_strategy.run(run_step, args=(data,))\n    File \"C:\\Users\\Mariya\\anaconda3\\lib\\site-packages\\keras\\src\\engine\\training.py\", line 2315, in run_step  **\n        outputs = model.predict_step(data)\n    File \"C:\\Users\\Mariya\\anaconda3\\lib\\site-packages\\keras\\src\\engine\\training.py\", line 2283, in predict_step\n        return self(x, training=False)\n    File \"C:\\Users\\Mariya\\anaconda3\\lib\\site-packages\\keras\\src\\utils\\traceback_utils.py\", line 70, in error_handler\n        raise e.with_traceback(filtered_tb) from None\n    File \"C:\\Users\\Mariya\\anaconda3\\lib\\site-packages\\keras\\src\\engine\\input_spec.py\", line 280, in assert_input_compatibility\n        raise ValueError(\n\n    ValueError: Exception encountered when calling layer 'sequential_1' (type Sequential).\n    \n    Input 0 of layer \"Layer1\" is incompatible with the layer: expected axis -1 of input shape to have value 1, but received input with shape (None, 2)\n    \n    Call arguments received by layer 'sequential_1' (type Sequential):\n      • inputs=tf.Tensor(shape=(None, 2), dtype=float32)\n      • training=False\n      • mask=None\n"
     ]
    }
   ],
   "source": [
    " model.predict([[20.0, 1.0]])"
   ]
  },
  {
   "cell_type": "code",
   "execution_count": 26,
   "id": "d54f6c5c",
   "metadata": {},
   "outputs": [
    {
     "name": "stdout",
     "output_type": "stream",
     "text": [
      "You must install pydot (`pip install pydot`) and install graphviz (see instructions at https://graphviz.gitlab.io/download/) for plot_model to work.\n"
     ]
    }
   ],
   "source": [
    "# Plot the model\n",
    "tf.keras.utils.plot_model(model) "
   ]
  },
  {
   "cell_type": "code",
   "execution_count": null,
   "id": "f131125f",
   "metadata": {},
   "outputs": [],
   "source": [
    " model.predict([9])"
   ]
  },
  {
   "cell_type": "code",
   "execution_count": 31,
   "id": "189c2afa",
   "metadata": {},
   "outputs": [
    {
     "ename": "NameError",
     "evalue": "name 'array' is not defined",
     "output_type": "error",
     "traceback": [
      "\u001b[1;31m---------------------------------------------------------------------------\u001b[0m",
      "\u001b[1;31mNameError\u001b[0m                                 Traceback (most recent call last)",
      "Cell \u001b[1;32mIn[31], line 1\u001b[0m\n\u001b[1;32m----> 1\u001b[0m \u001b[43marray\u001b[49m([[\u001b[38;5;241m4.271774\u001b[39m]], dtype\u001b[38;5;241m=\u001b[39mfloat32)\n",
      "\u001b[1;31mNameError\u001b[0m: name 'array' is not defined"
     ]
    }
   ],
   "source": [
    "array([[4.271774]], dtype=float32)"
   ]
  }
 ],
 "metadata": {
  "kernelspec": {
   "display_name": "Python 3 (ipykernel)",
   "language": "python",
   "name": "python3"
  },
  "language_info": {
   "codemirror_mode": {
    "name": "ipython",
    "version": 3
   },
   "file_extension": ".py",
   "mimetype": "text/x-python",
   "name": "python",
   "nbconvert_exporter": "python",
   "pygments_lexer": "ipython3",
   "version": "3.10.9"
  }
 },
 "nbformat": 4,
 "nbformat_minor": 5
}
