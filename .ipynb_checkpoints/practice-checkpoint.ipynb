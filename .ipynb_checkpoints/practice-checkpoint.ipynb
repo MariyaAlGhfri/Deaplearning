{
 "cells": [
  {
   "cell_type": "code",
   "execution_count": 1,
   "id": "8b86276c",
   "metadata": {},
   "outputs": [
    {
     "name": "stdout",
     "output_type": "stream",
     "text": [
      "Downloading data from https://www.cs.toronto.edu/~kriz/cifar-10-python.tar.gz\n",
      "170498071/170498071 [==============================] - 56s 0us/step\n",
      "Model: \"model\"\n",
      "_________________________________________________________________\n",
      " Layer (type)                Output Shape              Param #   \n",
      "=================================================================\n",
      " input_1 (InputLayer)        [(None, 32, 32, 3)]       0         \n",
      "                                                                 \n",
      " conv2d (Conv2D)             (None, 32, 32, 6)         456       \n",
      "                                                                 \n",
      " max_pooling2d (MaxPooling2  (None, 16, 16, 6)         0         \n",
      " D)                                                              \n",
      "                                                                 \n",
      " conv2d_1 (Conv2D)           (None, 16, 16, 16)        2416      \n",
      "                                                                 \n",
      " max_pooling2d_1 (MaxPoolin  (None, 8, 8, 16)          0         \n",
      " g2D)                                                            \n",
      "                                                                 \n",
      " conv2d_2 (Conv2D)           (None, 8, 8, 120)         48120     \n",
      "                                                                 \n",
      " flatten (Flatten)           (None, 7680)              0         \n",
      "                                                                 \n",
      " dense (Dense)               (None, 84)                645204    \n",
      "                                                                 \n",
      " dense_1 (Dense)             (None, 10)                850       \n",
      "                                                                 \n",
      "=================================================================\n",
      "Total params: 697046 (2.66 MB)\n",
      "Trainable params: 697046 (2.66 MB)\n",
      "Non-trainable params: 0 (0.00 Byte)\n",
      "_________________________________________________________________\n",
      "None\n",
      "Epoch 1/10\n",
      "196/196 [==============================] - 34s 163ms/step - loss: 3.2026 - acc: 0.3309 - val_loss: 1.5252 - val_acc: 0.4578\n",
      "Epoch 2/10\n",
      "196/196 [==============================] - 30s 154ms/step - loss: 1.4419 - acc: 0.4888 - val_loss: 1.3914 - val_acc: 0.5052\n",
      "Epoch 3/10\n",
      "196/196 [==============================] - 28s 142ms/step - loss: 1.3022 - acc: 0.5398 - val_loss: 1.3094 - val_acc: 0.5382\n",
      "Epoch 4/10\n",
      "196/196 [==============================] - 28s 141ms/step - loss: 1.1936 - acc: 0.5800 - val_loss: 1.3444 - val_acc: 0.5327\n",
      "Epoch 5/10\n",
      "196/196 [==============================] - 28s 141ms/step - loss: 1.0976 - acc: 0.6137 - val_loss: 1.3091 - val_acc: 0.5402\n",
      "Epoch 6/10\n",
      "196/196 [==============================] - 28s 141ms/step - loss: 1.0197 - acc: 0.6420 - val_loss: 1.2793 - val_acc: 0.5622\n",
      "Epoch 7/10\n",
      "196/196 [==============================] - 29s 146ms/step - loss: 0.9361 - acc: 0.6715 - val_loss: 1.3003 - val_acc: 0.5559\n",
      "Epoch 8/10\n",
      "196/196 [==============================] - 30s 151ms/step - loss: 0.8424 - acc: 0.7047 - val_loss: 1.3555 - val_acc: 0.5612\n",
      "Epoch 9/10\n",
      "196/196 [==============================] - 30s 155ms/step - loss: 0.7641 - acc: 0.7334 - val_loss: 1.3905 - val_acc: 0.5604\n",
      "Epoch 10/10\n",
      "196/196 [==============================] - 31s 157ms/step - loss: 0.6849 - acc: 0.7601 - val_loss: 1.4833 - val_acc: 0.5547\n"
     ]
    }
   ],
   "source": [
    "import tensorflow as tf\n",
    "import tensorflow.keras as keras\n",
    "from tensorflow.keras.layers import Dense, Input, Flatten, Conv2D, BatchNormalization, MaxPool2D\n",
    "from tensorflow.keras.models import Model\n",
    "\n",
    "(trainX, trainY), (testX, testY) = keras.datasets.cifar10.load_data()\n",
    "\n",
    "input_layer = Input(shape=(32,32,3,))\n",
    "x = Conv2D(filters=6, kernel_size=(5,5), padding=\"same\", activation=\"relu\")(input_layer)\n",
    "x = MaxPool2D(pool_size=(2,2))(x)\n",
    "x = Conv2D(filters=16, kernel_size=(5,5), padding=\"same\", activation=\"relu\")(x)\n",
    "x = MaxPool2D(pool_size=(2, 2))(x)\n",
    "x = Conv2D(filters=120, kernel_size=(5,5), padding=\"same\", activation=\"relu\")(x)\n",
    "x = Flatten()(x)\n",
    "x = Dense(units=84, activation=\"relu\")(x)\n",
    "x = Dense(units=10, activation=\"softmax\")(x)\n",
    "\n",
    "model = Model(inputs=input_layer, outputs=x)\n",
    "\n",
    "print(model.summary())\n",
    "\n",
    "model.compile(optimizer=\"adam\", loss=tf.keras.losses.SparseCategoricalCrossentropy(), metrics=\"acc\")\n",
    "\n",
    "history = model.fit(x=trainX, y=trainY, batch_size=256, epochs=10, validation_data=(testX, testY))"
   ]
  },
  {
   "cell_type": "code",
   "execution_count": 3,
   "id": "56ab3584",
   "metadata": {},
   "outputs": [],
   "source": [
    "#Sequential model\n",
    "import tensorflow as tf\n",
    "import keras\n",
    "from keras import layers"
   ]
  },
  {
   "cell_type": "code",
   "execution_count": 4,
   "id": "47c921c2",
   "metadata": {},
   "outputs": [],
   "source": [
    "# Define Sequential model with 3 layers\n",
    "model = keras.Sequential(\n",
    "    [\n",
    "        layers.Dense(2, activation=\"relu\", name=\"layer1\"),\n",
    "        layers.Dense(3, activation=\"relu\", name=\"layer2\"),\n",
    "        layers.Dense(4, name=\"layer3\"),\n",
    "    ]\n",
    ")\n",
    "# Call model on a test input\n",
    "x = tf.ones((3, 3))\n",
    "y = model(x)"
   ]
  },
  {
   "cell_type": "code",
   "execution_count": 5,
   "id": "a0602680",
   "metadata": {},
   "outputs": [
    {
     "name": "stdout",
     "output_type": "stream",
     "text": [
      "Model: \"sequential\"\n",
      "_________________________________________________________________\n",
      " Layer (type)                Output Shape              Param #   \n",
      "=================================================================\n",
      " layer1 (Dense)              (3, 2)                    8         \n",
      "                                                                 \n",
      " layer2 (Dense)              (3, 3)                    9         \n",
      "                                                                 \n",
      " layer3 (Dense)              (3, 4)                    16        \n",
      "                                                                 \n",
      "=================================================================\n",
      "Total params: 33 (132.00 Byte)\n",
      "Trainable params: 33 (132.00 Byte)\n",
      "Non-trainable params: 0 (0.00 Byte)\n",
      "_________________________________________________________________\n"
     ]
    }
   ],
   "source": [
    "model.summary()"
   ]
  },
  {
   "cell_type": "markdown",
   "id": "ce3271a4",
   "metadata": {},
   "source": [
    "######################################################"
   ]
  },
  {
   "cell_type": "code",
   "execution_count": 7,
   "id": "8d06981d",
   "metadata": {},
   "outputs": [],
   "source": [
    "import tensorflow as tf\n",
    "from sklearn.datasets import load_iris\n",
    "from sklearn.model_selection import train_test_split\n",
    "from sklearn.preprocessing import StandardScaler\n",
    "from sklearn.metrics import accuracy_score"
   ]
  },
  {
   "cell_type": "code",
   "execution_count": 8,
   "id": "89957b6f",
   "metadata": {},
   "outputs": [],
   "source": [
    "# Load the Iris dataset\n",
    "iris = load_iris()\n",
    "X, y = iris.data, iris.target"
   ]
  },
  {
   "cell_type": "code",
   "execution_count": 10,
   "id": "ade3b612",
   "metadata": {},
   "outputs": [],
   "source": [
    "# Split the dataset into train and test sets\n",
    "X_train, X_test, y_train, y_test = train_test_split(X, y, test_size=0.2, random_state=42)\n"
   ]
  },
  {
   "cell_type": "code",
   "execution_count": 11,
   "id": "d8475a91",
   "metadata": {},
   "outputs": [],
   "source": [
    "# Standardize the features\n",
    "scaler = StandardScaler()\n",
    "X_train_scaled = scaler.fit_transform(X_train)\n",
    "X_test_scaled = scaler.transform(X_test)\n"
   ]
  },
  {
   "cell_type": "code",
   "execution_count": 12,
   "id": "87b40866",
   "metadata": {},
   "outputs": [],
   "source": [
    "# Build the Sequential model\n",
    "model = tf.keras.Sequential([\n",
    "    tf.keras.layers.Input(shape=(4,)),\n",
    "    tf.keras.layers.Dense(16, activation='relu'),\n",
    "    tf.keras.layers.Dense(8, activation='relu'),\n",
    "    tf.keras.layers.Dense(3, activation='softmax')\n",
    "])"
   ]
  },
  {
   "cell_type": "code",
   "execution_count": 13,
   "id": "863d0004",
   "metadata": {},
   "outputs": [],
   "source": [
    "# Compile the model\n",
    "model.compile(optimizer='adam', loss='sparse_categorical_crossentropy', metrics=['accuracy'])\n"
   ]
  },
  {
   "cell_type": "code",
   "execution_count": 14,
   "id": "fac52777",
   "metadata": {},
   "outputs": [
    {
     "name": "stdout",
     "output_type": "stream",
     "text": [
      "Epoch 1/50\n",
      "4/4 - 1s - loss: 1.0173 - accuracy: 0.4630 - val_loss: 1.0356 - val_accuracy: 0.4167 - 1s/epoch - 307ms/step\n",
      "Epoch 2/50\n",
      "4/4 - 0s - loss: 0.9956 - accuracy: 0.5556 - val_loss: 1.0208 - val_accuracy: 0.5833 - 63ms/epoch - 16ms/step\n",
      "Epoch 3/50\n",
      "4/4 - 0s - loss: 0.9750 - accuracy: 0.6389 - val_loss: 1.0074 - val_accuracy: 0.5833 - 62ms/epoch - 16ms/step\n",
      "Epoch 4/50\n",
      "4/4 - 0s - loss: 0.9551 - accuracy: 0.6759 - val_loss: 0.9950 - val_accuracy: 0.5833 - 78ms/epoch - 20ms/step\n",
      "Epoch 5/50\n",
      "4/4 - 0s - loss: 0.9357 - accuracy: 0.6852 - val_loss: 0.9832 - val_accuracy: 0.5833 - 62ms/epoch - 16ms/step\n",
      "Epoch 6/50\n",
      "4/4 - 0s - loss: 0.9167 - accuracy: 0.6852 - val_loss: 0.9719 - val_accuracy: 0.5833 - 47ms/epoch - 12ms/step\n",
      "Epoch 7/50\n",
      "4/4 - 0s - loss: 0.8992 - accuracy: 0.6944 - val_loss: 0.9607 - val_accuracy: 0.5833 - 47ms/epoch - 12ms/step\n",
      "Epoch 8/50\n",
      "4/4 - 0s - loss: 0.8808 - accuracy: 0.7037 - val_loss: 0.9499 - val_accuracy: 0.5833 - 47ms/epoch - 12ms/step\n",
      "Epoch 9/50\n",
      "4/4 - 0s - loss: 0.8634 - accuracy: 0.7037 - val_loss: 0.9393 - val_accuracy: 0.5833 - 63ms/epoch - 16ms/step\n",
      "Epoch 10/50\n",
      "4/4 - 0s - loss: 0.8466 - accuracy: 0.7222 - val_loss: 0.9285 - val_accuracy: 0.5833 - 47ms/epoch - 12ms/step\n",
      "Epoch 11/50\n",
      "4/4 - 0s - loss: 0.8299 - accuracy: 0.7222 - val_loss: 0.9178 - val_accuracy: 0.5833 - 47ms/epoch - 12ms/step\n",
      "Epoch 12/50\n",
      "4/4 - 0s - loss: 0.8132 - accuracy: 0.7222 - val_loss: 0.9065 - val_accuracy: 0.5833 - 63ms/epoch - 16ms/step\n",
      "Epoch 13/50\n",
      "4/4 - 0s - loss: 0.7969 - accuracy: 0.7222 - val_loss: 0.8950 - val_accuracy: 0.5833 - 62ms/epoch - 16ms/step\n",
      "Epoch 14/50\n",
      "4/4 - 0s - loss: 0.7804 - accuracy: 0.7315 - val_loss: 0.8839 - val_accuracy: 0.5833 - 63ms/epoch - 16ms/step\n",
      "Epoch 15/50\n",
      "4/4 - 0s - loss: 0.7661 - accuracy: 0.7407 - val_loss: 0.8723 - val_accuracy: 0.5833 - 63ms/epoch - 16ms/step\n",
      "Epoch 16/50\n",
      "4/4 - 0s - loss: 0.7513 - accuracy: 0.7500 - val_loss: 0.8604 - val_accuracy: 0.6667 - 63ms/epoch - 16ms/step\n",
      "Epoch 17/50\n",
      "4/4 - 0s - loss: 0.7371 - accuracy: 0.7593 - val_loss: 0.8485 - val_accuracy: 0.7500 - 47ms/epoch - 12ms/step\n",
      "Epoch 18/50\n",
      "4/4 - 0s - loss: 0.7237 - accuracy: 0.7685 - val_loss: 0.8368 - val_accuracy: 0.7500 - 47ms/epoch - 12ms/step\n",
      "Epoch 19/50\n",
      "4/4 - 0s - loss: 0.7103 - accuracy: 0.7870 - val_loss: 0.8250 - val_accuracy: 0.7500 - 31ms/epoch - 8ms/step\n",
      "Epoch 20/50\n",
      "4/4 - 0s - loss: 0.6971 - accuracy: 0.7963 - val_loss: 0.8132 - val_accuracy: 0.8333 - 47ms/epoch - 12ms/step\n",
      "Epoch 21/50\n",
      "4/4 - 0s - loss: 0.6843 - accuracy: 0.8148 - val_loss: 0.8007 - val_accuracy: 0.8333 - 47ms/epoch - 12ms/step\n",
      "Epoch 22/50\n",
      "4/4 - 0s - loss: 0.6713 - accuracy: 0.8241 - val_loss: 0.7885 - val_accuracy: 0.8333 - 47ms/epoch - 12ms/step\n",
      "Epoch 23/50\n",
      "4/4 - 0s - loss: 0.6590 - accuracy: 0.8148 - val_loss: 0.7762 - val_accuracy: 0.8333 - 63ms/epoch - 16ms/step\n",
      "Epoch 24/50\n",
      "4/4 - 0s - loss: 0.6464 - accuracy: 0.8148 - val_loss: 0.7636 - val_accuracy: 0.9167 - 63ms/epoch - 16ms/step\n",
      "Epoch 25/50\n",
      "4/4 - 0s - loss: 0.6334 - accuracy: 0.8241 - val_loss: 0.7504 - val_accuracy: 0.9167 - 63ms/epoch - 16ms/step\n",
      "Epoch 26/50\n",
      "4/4 - 0s - loss: 0.6209 - accuracy: 0.8241 - val_loss: 0.7368 - val_accuracy: 0.9167 - 47ms/epoch - 12ms/step\n",
      "Epoch 27/50\n",
      "4/4 - 0s - loss: 0.6076 - accuracy: 0.8241 - val_loss: 0.7230 - val_accuracy: 0.9167 - 47ms/epoch - 12ms/step\n",
      "Epoch 28/50\n",
      "4/4 - 0s - loss: 0.5951 - accuracy: 0.8426 - val_loss: 0.7089 - val_accuracy: 0.9167 - 47ms/epoch - 12ms/step\n",
      "Epoch 29/50\n",
      "4/4 - 0s - loss: 0.5824 - accuracy: 0.8426 - val_loss: 0.6951 - val_accuracy: 0.9167 - 47ms/epoch - 12ms/step\n",
      "Epoch 30/50\n",
      "4/4 - 0s - loss: 0.5695 - accuracy: 0.8426 - val_loss: 0.6813 - val_accuracy: 0.9167 - 47ms/epoch - 12ms/step\n",
      "Epoch 31/50\n",
      "4/4 - 0s - loss: 0.5565 - accuracy: 0.8611 - val_loss: 0.6674 - val_accuracy: 0.9167 - 47ms/epoch - 12ms/step\n",
      "Epoch 32/50\n",
      "4/4 - 0s - loss: 0.5441 - accuracy: 0.8611 - val_loss: 0.6532 - val_accuracy: 0.9167 - 47ms/epoch - 12ms/step\n",
      "Epoch 33/50\n",
      "4/4 - 0s - loss: 0.5317 - accuracy: 0.8611 - val_loss: 0.6395 - val_accuracy: 0.9167 - 63ms/epoch - 16ms/step\n",
      "Epoch 34/50\n",
      "4/4 - 0s - loss: 0.5188 - accuracy: 0.8611 - val_loss: 0.6263 - val_accuracy: 0.9167 - 47ms/epoch - 12ms/step\n",
      "Epoch 35/50\n",
      "4/4 - 0s - loss: 0.5065 - accuracy: 0.8796 - val_loss: 0.6125 - val_accuracy: 0.9167 - 47ms/epoch - 12ms/step\n",
      "Epoch 36/50\n",
      "4/4 - 0s - loss: 0.4933 - accuracy: 0.8981 - val_loss: 0.5996 - val_accuracy: 0.9167 - 47ms/epoch - 12ms/step\n",
      "Epoch 37/50\n",
      "4/4 - 0s - loss: 0.4811 - accuracy: 0.8889 - val_loss: 0.5870 - val_accuracy: 0.9167 - 47ms/epoch - 12ms/step\n",
      "Epoch 38/50\n",
      "4/4 - 0s - loss: 0.4693 - accuracy: 0.9074 - val_loss: 0.5743 - val_accuracy: 0.9167 - 63ms/epoch - 16ms/step\n",
      "Epoch 39/50\n",
      "4/4 - 0s - loss: 0.4571 - accuracy: 0.9074 - val_loss: 0.5609 - val_accuracy: 0.9167 - 63ms/epoch - 16ms/step\n",
      "Epoch 40/50\n",
      "4/4 - 0s - loss: 0.4457 - accuracy: 0.9074 - val_loss: 0.5476 - val_accuracy: 0.9167 - 47ms/epoch - 12ms/step\n",
      "Epoch 41/50\n",
      "4/4 - 0s - loss: 0.4340 - accuracy: 0.9074 - val_loss: 0.5353 - val_accuracy: 0.9167 - 47ms/epoch - 12ms/step\n",
      "Epoch 42/50\n",
      "4/4 - 0s - loss: 0.4229 - accuracy: 0.9074 - val_loss: 0.5242 - val_accuracy: 0.9167 - 63ms/epoch - 16ms/step\n",
      "Epoch 43/50\n",
      "4/4 - 0s - loss: 0.4123 - accuracy: 0.9074 - val_loss: 0.5120 - val_accuracy: 0.9167 - 63ms/epoch - 16ms/step\n",
      "Epoch 44/50\n",
      "4/4 - 0s - loss: 0.4019 - accuracy: 0.9074 - val_loss: 0.5007 - val_accuracy: 0.9167 - 63ms/epoch - 16ms/step\n",
      "Epoch 45/50\n",
      "4/4 - 0s - loss: 0.3919 - accuracy: 0.9074 - val_loss: 0.4889 - val_accuracy: 0.9167 - 63ms/epoch - 16ms/step\n",
      "Epoch 46/50\n",
      "4/4 - 0s - loss: 0.3825 - accuracy: 0.9074 - val_loss: 0.4764 - val_accuracy: 0.9167 - 47ms/epoch - 12ms/step\n",
      "Epoch 47/50\n",
      "4/4 - 0s - loss: 0.3726 - accuracy: 0.9167 - val_loss: 0.4656 - val_accuracy: 0.9167 - 62ms/epoch - 16ms/step\n",
      "Epoch 48/50\n",
      "4/4 - 0s - loss: 0.3638 - accuracy: 0.9259 - val_loss: 0.4561 - val_accuracy: 0.9167 - 47ms/epoch - 12ms/step\n",
      "Epoch 49/50\n",
      "4/4 - 0s - loss: 0.3549 - accuracy: 0.9259 - val_loss: 0.4467 - val_accuracy: 0.9167 - 47ms/epoch - 12ms/step\n",
      "Epoch 50/50\n",
      "4/4 - 0s - loss: 0.3465 - accuracy: 0.9259 - val_loss: 0.4389 - val_accuracy: 0.9167 - 63ms/epoch - 16ms/step\n"
     ]
    },
    {
     "data": {
      "text/plain": [
       "<keras.src.callbacks.History at 0x13f817b2800>"
      ]
     },
     "execution_count": 14,
     "metadata": {},
     "output_type": "execute_result"
    }
   ],
   "source": [
    "\n",
    "# Train the model\n",
    "model.fit(X_train_scaled, y_train, epochs=50, batch_size=32, validation_split=0.1, verbose=2)\n"
   ]
  },
  {
   "cell_type": "code",
   "execution_count": 15,
   "id": "5d497edf",
   "metadata": {},
   "outputs": [
    {
     "name": "stdout",
     "output_type": "stream",
     "text": [
      "1/1 [==============================] - 0s 47ms/step - loss: 0.2876 - accuracy: 0.9667\n",
      "Test accuracy: 0.9667\n"
     ]
    }
   ],
   "source": [
    "\n",
    "# Evaluate the model on the test set\n",
    "loss, accuracy = model.evaluate(X_test_scaled, y_test)\n",
    "print(f\"Test accuracy: {accuracy:.4f}\")\n"
   ]
  },
  {
   "cell_type": "markdown",
   "id": "95531905",
   "metadata": {},
   "source": [
    "##############################################################"
   ]
  },
  {
   "cell_type": "code",
   "execution_count": 16,
   "id": "2a045018",
   "metadata": {},
   "outputs": [],
   "source": [
    "import tensorflow as tf\n",
    "from tensorflow.keras.datasets import fashion_mnist\n",
    "from tensorflow.keras.models import Sequential\n",
    "from tensorflow.keras.layers import Dense, Flatten\n",
    "from tensorflow.keras.utils import to_categorical"
   ]
  },
  {
   "cell_type": "code",
   "execution_count": 17,
   "id": "d08900f1",
   "metadata": {},
   "outputs": [],
   "source": [
    "# Load and preprocess the Fashion MNIST dataset\n",
    "(X_train, y_train), (X_test, y_test) = fashion_mnist.load_data()"
   ]
  },
  {
   "cell_type": "code",
   "execution_count": 18,
   "id": "e0d952bf",
   "metadata": {},
   "outputs": [],
   "source": [
    "X_train = X_train / 255.0  # Normalize pixel values between 0 and 1\n",
    "X_test = X_test / 255.0"
   ]
  },
  {
   "cell_type": "code",
   "execution_count": 19,
   "id": "d661eebe",
   "metadata": {},
   "outputs": [],
   "source": [
    "y_train = to_categorical(y_train, num_classes=10)  # Convert labels to one-hot encoding\n",
    "y_test = to_categorical(y_test, num_classes=10)"
   ]
  },
  {
   "cell_type": "code",
   "execution_count": 20,
   "id": "c8f618f9",
   "metadata": {},
   "outputs": [],
   "source": [
    "# Build a Sequential model\n",
    "model = Sequential([\n",
    "    Flatten(input_shape=(28, 28)),  # Flatten the 28x28 images into a 1D array\n",
    "    Dense(128, activation='relu'),\n",
    "    Dense(64, activation='relu'),\n",
    "    Dense(10, activation='softmax')  # Output layer with 10 neurons for 10 classes\n",
    "])"
   ]
  },
  {
   "cell_type": "code",
   "execution_count": 21,
   "id": "f8ed6469",
   "metadata": {},
   "outputs": [],
   "source": [
    "# Compile the model\n",
    "model.compile(optimizer='adam', loss='categorical_crossentropy', metrics=['accuracy'])"
   ]
  },
  {
   "cell_type": "code",
   "execution_count": 23,
   "id": "c7b56c97",
   "metadata": {},
   "outputs": [
    {
     "name": "stdout",
     "output_type": "stream",
     "text": [
      "Epoch 1/10\n",
      "1500/1500 - 5s - loss: 0.2313 - accuracy: 0.9134 - val_loss: 0.3358 - val_accuracy: 0.8821 - 5s/epoch - 3ms/step\n",
      "Epoch 2/10\n",
      "1500/1500 - 5s - loss: 0.2215 - accuracy: 0.9156 - val_loss: 0.3404 - val_accuracy: 0.8878 - 5s/epoch - 3ms/step\n",
      "Epoch 3/10\n",
      "1500/1500 - 6s - loss: 0.2125 - accuracy: 0.9195 - val_loss: 0.3438 - val_accuracy: 0.8878 - 6s/epoch - 4ms/step\n",
      "Epoch 4/10\n",
      "1500/1500 - 5s - loss: 0.2088 - accuracy: 0.9201 - val_loss: 0.3341 - val_accuracy: 0.8899 - 5s/epoch - 3ms/step\n",
      "Epoch 5/10\n",
      "1500/1500 - 5s - loss: 0.1995 - accuracy: 0.9240 - val_loss: 0.3555 - val_accuracy: 0.8848 - 5s/epoch - 3ms/step\n",
      "Epoch 6/10\n",
      "1500/1500 - 5s - loss: 0.1973 - accuracy: 0.9245 - val_loss: 0.3417 - val_accuracy: 0.8903 - 5s/epoch - 4ms/step\n",
      "Epoch 7/10\n",
      "1500/1500 - 6s - loss: 0.1889 - accuracy: 0.9277 - val_loss: 0.3728 - val_accuracy: 0.8828 - 6s/epoch - 4ms/step\n",
      "Epoch 8/10\n",
      "1500/1500 - 5s - loss: 0.1827 - accuracy: 0.9300 - val_loss: 0.3390 - val_accuracy: 0.8910 - 5s/epoch - 4ms/step\n",
      "Epoch 9/10\n",
      "1500/1500 - 5s - loss: 0.1798 - accuracy: 0.9312 - val_loss: 0.3491 - val_accuracy: 0.8906 - 5s/epoch - 4ms/step\n",
      "Epoch 10/10\n",
      "1500/1500 - 6s - loss: 0.1721 - accuracy: 0.9344 - val_loss: 0.3635 - val_accuracy: 0.8903 - 6s/epoch - 4ms/step\n"
     ]
    },
    {
     "data": {
      "text/plain": [
       "<keras.src.callbacks.History at 0x13f88398e80>"
      ]
     },
     "execution_count": 23,
     "metadata": {},
     "output_type": "execute_result"
    }
   ],
   "source": [
    "# Train the model\n",
    "model.fit(X_train, y_train, epochs=10, batch_size=32, validation_split=0.2, verbose=2)"
   ]
  },
  {
   "cell_type": "code",
   "execution_count": 24,
   "id": "0ea3098b",
   "metadata": {},
   "outputs": [
    {
     "name": "stdout",
     "output_type": "stream",
     "text": [
      "313/313 [==============================] - 1s 2ms/step - loss: 0.3937 - accuracy: 0.8896\n",
      "Test accuracy: 0.8896\n"
     ]
    }
   ],
   "source": [
    "# Evaluate the model on the test set\n",
    "loss, accuracy = model.evaluate(X_test, y_test)\n",
    "print(f\"Test accuracy: {accuracy:.4f}\")"
   ]
  },
  {
   "cell_type": "code",
   "execution_count": null,
   "id": "0ea79cb6",
   "metadata": {},
   "outputs": [],
   "source": []
  },
  {
   "cell_type": "code",
   "execution_count": null,
   "id": "f80f4f67",
   "metadata": {},
   "outputs": [],
   "source": []
  }
 ],
 "metadata": {
  "kernelspec": {
   "display_name": "Python 3 (ipykernel)",
   "language": "python",
   "name": "python3"
  },
  "language_info": {
   "codemirror_mode": {
    "name": "ipython",
    "version": 3
   },
   "file_extension": ".py",
   "mimetype": "text/x-python",
   "name": "python",
   "nbconvert_exporter": "python",
   "pygments_lexer": "ipython3",
   "version": "3.10.9"
  }
 },
 "nbformat": 4,
 "nbformat_minor": 5
}
