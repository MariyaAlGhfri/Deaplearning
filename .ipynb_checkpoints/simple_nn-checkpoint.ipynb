{
 "cells": [
  {
   "cell_type": "code",
   "execution_count": 1,
   "id": "9889b940",
   "metadata": {},
   "outputs": [],
   "source": [
    "import tensorflow as tf "
   ]
  },
  {
   "cell_type": "code",
   "execution_count": 2,
   "id": "be5bc07d",
   "metadata": {},
   "outputs": [],
   "source": [
    "X = tf.random.uniform((100, 2))\n",
    "y = (X + 5) * 0.3"
   ]
  },
  {
   "cell_type": "code",
   "execution_count": 3,
   "id": "0b53caaf",
   "metadata": {},
   "outputs": [
    {
     "data": {
      "text/plain": [
       "(tensorflow.python.framework.ops.EagerTensor,\n",
       " tensorflow.python.framework.ops.EagerTensor)"
      ]
     },
     "execution_count": 3,
     "metadata": {},
     "output_type": "execute_result"
    }
   ],
   "source": [
    "type(X), type(y) "
   ]
  },
  {
   "cell_type": "code",
   "execution_count": 4,
   "id": "361081f2",
   "metadata": {},
   "outputs": [
    {
     "data": {
      "text/plain": [
       "(TensorShape([100, 2]), TensorShape([100, 2]))"
      ]
     },
     "execution_count": 4,
     "metadata": {},
     "output_type": "execute_result"
    }
   ],
   "source": [
    "X.shape, y.shape "
   ]
  },
  {
   "cell_type": "code",
   "execution_count": 5,
   "id": "84eee441",
   "metadata": {},
   "outputs": [],
   "source": [
    "#Define a simple Neural Network\n",
    "    model =  tf.keras.Sequential([\n",
    "    tf.keras.layers.Input(name=\"InputLayer\", shape=[2]),\n",
    "    tf.keras.layers.Dense(2, name=\"Layer1\"),\n",
    "    # tf.keras.layers.Dense(1, name=\"Layer2\"),\n",
    " ])"
   ]
  },
  {
   "cell_type": "code",
   "execution_count": 6,
   "id": "39df87b5",
   "metadata": {},
   "outputs": [
    {
     "name": "stdout",
     "output_type": "stream",
     "text": [
      "Model: \"sequential\"\n",
      "_________________________________________________________________\n",
      " Layer (type)                Output Shape              Param #   \n",
      "=================================================================\n",
      " Layer1 (Dense)              (None, 2)                 6         \n",
      "                                                                 \n",
      "=================================================================\n",
      "Total params: 6 (24.00 Byte)\n",
      "Trainable params: 6 (24.00 Byte)\n",
      "Non-trainable params: 0 (0.00 Byte)\n",
      "_________________________________________________________________\n"
     ]
    }
   ],
   "source": [
    " model.summary()"
   ]
  },
  {
   "cell_type": "code",
   "execution_count": 7,
   "id": "4883a055",
   "metadata": {},
   "outputs": [
    {
     "data": {
      "text/plain": [
       "[<tf.Variable 'Layer1/kernel:0' shape=(2, 2) dtype=float32, numpy=\n",
       " array([[-0.9208757 ,  0.6335516 ],\n",
       "        [-0.05186307,  0.94141686]], dtype=float32)>,\n",
       " <tf.Variable 'Layer1/bias:0' shape=(2,) dtype=float32, numpy=array([0., 0.], dtype=float32)>]"
      ]
     },
     "execution_count": 7,
     "metadata": {},
     "output_type": "execute_result"
    }
   ],
   "source": [
    " model.layers[0].weights"
   ]
  },
  {
   "cell_type": "code",
   "execution_count": 8,
   "id": "97b514fd",
   "metadata": {},
   "outputs": [],
   "source": [
    "#Train Neural Network\n",
    "model.compile(loss=\"MSE\", optimizer=\"adam\") "
   ]
  },
  {
   "cell_type": "code",
   "execution_count": 9,
   "id": "7b770df6",
   "metadata": {},
   "outputs": [
    {
     "name": "stdout",
     "output_type": "stream",
     "text": [
      "Epoch 1/100\n",
      "4/4 [==============================] - 1s 4ms/step - loss: 2.8305\n",
      "Epoch 2/100\n",
      "4/4 [==============================] - 0s 4ms/step - loss: 2.8059\n",
      "Epoch 3/100\n",
      "4/4 [==============================] - 0s 7ms/step - loss: 2.7812\n",
      "Epoch 4/100\n",
      "4/4 [==============================] - 0s 4ms/step - loss: 2.7568\n",
      "Epoch 5/100\n",
      "4/4 [==============================] - 0s 4ms/step - loss: 2.7327\n",
      "Epoch 6/100\n",
      "4/4 [==============================] - 0s 5ms/step - loss: 2.7088\n",
      "Epoch 7/100\n",
      "4/4 [==============================] - 0s 6ms/step - loss: 2.6850\n",
      "Epoch 8/100\n",
      "4/4 [==============================] - 0s 5ms/step - loss: 2.6613\n",
      "Epoch 9/100\n",
      "4/4 [==============================] - 0s 4ms/step - loss: 2.6378\n",
      "Epoch 10/100\n",
      "4/4 [==============================] - 0s 5ms/step - loss: 2.6146\n",
      "Epoch 11/100\n",
      "4/4 [==============================] - 0s 6ms/step - loss: 2.5912\n",
      "Epoch 12/100\n",
      "4/4 [==============================] - 0s 4ms/step - loss: 2.5684\n",
      "Epoch 13/100\n",
      "4/4 [==============================] - 0s 4ms/step - loss: 2.5456\n",
      "Epoch 14/100\n",
      "4/4 [==============================] - 0s 5ms/step - loss: 2.5232\n",
      "Epoch 15/100\n",
      "4/4 [==============================] - 0s 4ms/step - loss: 2.5009\n",
      "Epoch 16/100\n",
      "4/4 [==============================] - 0s 4ms/step - loss: 2.4785\n",
      "Epoch 17/100\n",
      "4/4 [==============================] - 0s 5ms/step - loss: 2.4567\n",
      "Epoch 18/100\n",
      "4/4 [==============================] - 0s 5ms/step - loss: 2.4346\n",
      "Epoch 19/100\n",
      "4/4 [==============================] - 0s 4ms/step - loss: 2.4132\n",
      "Epoch 20/100\n",
      "4/4 [==============================] - 0s 7ms/step - loss: 2.3919\n",
      "Epoch 21/100\n",
      "4/4 [==============================] - 0s 4ms/step - loss: 2.3706\n",
      "Epoch 22/100\n",
      "4/4 [==============================] - 0s 4ms/step - loss: 2.3496\n",
      "Epoch 23/100\n",
      "4/4 [==============================] - 0s 3ms/step - loss: 2.3289\n",
      "Epoch 24/100\n",
      "4/4 [==============================] - 0s 7ms/step - loss: 2.3086\n",
      "Epoch 25/100\n",
      "4/4 [==============================] - 0s 4ms/step - loss: 2.2884\n",
      "Epoch 26/100\n",
      "4/4 [==============================] - 0s 7ms/step - loss: 2.2683\n",
      "Epoch 27/100\n",
      "4/4 [==============================] - 0s 4ms/step - loss: 2.2483\n",
      "Epoch 28/100\n",
      "4/4 [==============================] - 0s 8ms/step - loss: 2.2287\n",
      "Epoch 29/100\n",
      "4/4 [==============================] - 0s 6ms/step - loss: 2.2093\n",
      "Epoch 30/100\n",
      "4/4 [==============================] - 0s 3ms/step - loss: 2.1901\n",
      "Epoch 31/100\n",
      "4/4 [==============================] - 0s 4ms/step - loss: 2.1706\n",
      "Epoch 32/100\n",
      "4/4 [==============================] - 0s 5ms/step - loss: 2.1516\n",
      "Epoch 33/100\n",
      "4/4 [==============================] - 0s 4ms/step - loss: 2.1328\n",
      "Epoch 34/100\n",
      "4/4 [==============================] - 0s 4ms/step - loss: 2.1140\n",
      "Epoch 35/100\n",
      "4/4 [==============================] - 0s 4ms/step - loss: 2.0951\n",
      "Epoch 36/100\n",
      "4/4 [==============================] - 0s 4ms/step - loss: 2.0768\n",
      "Epoch 37/100\n",
      "4/4 [==============================] - 0s 4ms/step - loss: 2.0583\n",
      "Epoch 38/100\n",
      "4/4 [==============================] - 0s 5ms/step - loss: 2.0400\n",
      "Epoch 39/100\n",
      "4/4 [==============================] - 0s 4ms/step - loss: 2.0219\n",
      "Epoch 40/100\n",
      "4/4 [==============================] - 0s 4ms/step - loss: 2.0040\n",
      "Epoch 41/100\n",
      "4/4 [==============================] - 0s 4ms/step - loss: 1.9862\n",
      "Epoch 42/100\n",
      "4/4 [==============================] - 0s 5ms/step - loss: 1.9686\n",
      "Epoch 43/100\n",
      "4/4 [==============================] - 0s 5ms/step - loss: 1.9513\n",
      "Epoch 44/100\n",
      "4/4 [==============================] - 0s 4ms/step - loss: 1.9342\n",
      "Epoch 45/100\n",
      "4/4 [==============================] - 0s 4ms/step - loss: 1.9170\n",
      "Epoch 46/100\n",
      "4/4 [==============================] - 0s 5ms/step - loss: 1.9001\n",
      "Epoch 47/100\n",
      "4/4 [==============================] - 0s 5ms/step - loss: 1.8835\n",
      "Epoch 48/100\n",
      "4/4 [==============================] - 0s 4ms/step - loss: 1.8671\n",
      "Epoch 49/100\n",
      "4/4 [==============================] - 0s 3ms/step - loss: 1.8508\n",
      "Epoch 50/100\n",
      "4/4 [==============================] - 0s 4ms/step - loss: 1.8346\n",
      "Epoch 51/100\n",
      "4/4 [==============================] - 0s 4ms/step - loss: 1.8188\n",
      "Epoch 52/100\n",
      "4/4 [==============================] - 0s 2ms/step - loss: 1.8027\n",
      "Epoch 53/100\n",
      "4/4 [==============================] - 0s 7ms/step - loss: 1.7868\n",
      "Epoch 54/100\n",
      "4/4 [==============================] - 0s 6ms/step - loss: 1.7712\n",
      "Epoch 55/100\n",
      "4/4 [==============================] - 0s 4ms/step - loss: 1.7558\n",
      "Epoch 56/100\n",
      "4/4 [==============================] - 0s 2ms/step - loss: 1.7404\n",
      "Epoch 57/100\n",
      "4/4 [==============================] - 0s 5ms/step - loss: 1.7255\n",
      "Epoch 58/100\n",
      "4/4 [==============================] - 0s 3ms/step - loss: 1.7104\n",
      "Epoch 59/100\n",
      "4/4 [==============================] - 0s 5ms/step - loss: 1.6955\n",
      "Epoch 60/100\n",
      "4/4 [==============================] - 0s 4ms/step - loss: 1.6807\n",
      "Epoch 61/100\n",
      "4/4 [==============================] - 0s 4ms/step - loss: 1.6658\n",
      "Epoch 62/100\n",
      "4/4 [==============================] - 0s 4ms/step - loss: 1.6512\n",
      "Epoch 63/100\n",
      "4/4 [==============================] - 0s 3ms/step - loss: 1.6363\n",
      "Epoch 64/100\n",
      "4/4 [==============================] - 0s 4ms/step - loss: 1.6217\n",
      "Epoch 65/100\n",
      "4/4 [==============================] - 0s 4ms/step - loss: 1.6075\n",
      "Epoch 66/100\n",
      "4/4 [==============================] - 0s 5ms/step - loss: 1.5932\n",
      "Epoch 67/100\n",
      "4/4 [==============================] - 0s 6ms/step - loss: 1.5792\n",
      "Epoch 68/100\n",
      "4/4 [==============================] - 0s 4ms/step - loss: 1.5653\n",
      "Epoch 69/100\n",
      "4/4 [==============================] - 0s 4ms/step - loss: 1.5515\n",
      "Epoch 70/100\n",
      "4/4 [==============================] - 0s 4ms/step - loss: 1.5377\n",
      "Epoch 71/100\n",
      "4/4 [==============================] - 0s 4ms/step - loss: 1.5242\n",
      "Epoch 72/100\n",
      "4/4 [==============================] - 0s 5ms/step - loss: 1.5109\n",
      "Epoch 73/100\n",
      "4/4 [==============================] - 0s 3ms/step - loss: 1.4977\n",
      "Epoch 74/100\n",
      "4/4 [==============================] - 0s 4ms/step - loss: 1.4844\n",
      "Epoch 75/100\n",
      "4/4 [==============================] - 0s 4ms/step - loss: 1.4714\n",
      "Epoch 76/100\n",
      "4/4 [==============================] - 0s 4ms/step - loss: 1.4585\n",
      "Epoch 77/100\n",
      "4/4 [==============================] - 0s 4ms/step - loss: 1.4455\n",
      "Epoch 78/100\n",
      "4/4 [==============================] - 0s 4ms/step - loss: 1.4327\n",
      "Epoch 79/100\n",
      "4/4 [==============================] - 0s 5ms/step - loss: 1.4201\n",
      "Epoch 80/100\n",
      "4/4 [==============================] - 0s 5ms/step - loss: 1.4075\n",
      "Epoch 81/100\n",
      "4/4 [==============================] - 0s 4ms/step - loss: 1.3952\n",
      "Epoch 82/100\n",
      "4/4 [==============================] - 0s 4ms/step - loss: 1.3830\n",
      "Epoch 83/100\n",
      "4/4 [==============================] - 0s 5ms/step - loss: 1.3710\n",
      "Epoch 84/100\n",
      "4/4 [==============================] - 0s 3ms/step - loss: 1.3591\n",
      "Epoch 85/100\n",
      "4/4 [==============================] - 0s 3ms/step - loss: 1.3473\n",
      "Epoch 86/100\n",
      "4/4 [==============================] - 0s 4ms/step - loss: 1.3354\n",
      "Epoch 87/100\n",
      "4/4 [==============================] - 0s 3ms/step - loss: 1.3237\n",
      "Epoch 88/100\n",
      "4/4 [==============================] - 0s 3ms/step - loss: 1.3121\n",
      "Epoch 89/100\n",
      "4/4 [==============================] - 0s 5ms/step - loss: 1.3006\n",
      "Epoch 90/100\n",
      "4/4 [==============================] - 0s 4ms/step - loss: 1.2892\n",
      "Epoch 91/100\n",
      "4/4 [==============================] - 0s 5ms/step - loss: 1.2780\n",
      "Epoch 92/100\n",
      "4/4 [==============================] - 0s 3ms/step - loss: 1.2667\n",
      "Epoch 93/100\n",
      "4/4 [==============================] - 0s 3ms/step - loss: 1.2556\n",
      "Epoch 94/100\n",
      "4/4 [==============================] - 0s 3ms/step - loss: 1.2447\n",
      "Epoch 95/100\n",
      "4/4 [==============================] - 0s 4ms/step - loss: 1.2337\n",
      "Epoch 96/100\n",
      "4/4 [==============================] - 0s 4ms/step - loss: 1.2230\n",
      "Epoch 97/100\n",
      "4/4 [==============================] - 0s 4ms/step - loss: 1.2125\n",
      "Epoch 98/100\n",
      "4/4 [==============================] - 0s 3ms/step - loss: 1.2020\n",
      "Epoch 99/100\n",
      "4/4 [==============================] - 0s 5ms/step - loss: 1.1917\n",
      "Epoch 100/100\n",
      "4/4 [==============================] - 0s 5ms/step - loss: 1.1814\n"
     ]
    },
    {
     "data": {
      "text/plain": [
       "<keras.src.callbacks.History at 0x18373fda8f0>"
      ]
     },
     "execution_count": 9,
     "metadata": {},
     "output_type": "execute_result"
    }
   ],
   "source": [
    "model.fit(X, y, epochs=100)"
   ]
  },
  {
   "cell_type": "code",
   "execution_count": 10,
   "id": "33d1afa2",
   "metadata": {},
   "outputs": [
    {
     "data": {
      "text/plain": [
       "[<tf.Variable 'Layer1/kernel:0' shape=(2, 2) dtype=float32, numpy=\n",
       " array([[-0.56028825,  0.9031692 ],\n",
       "        [ 0.30473775,  1.2093655 ]], dtype=float32)>,\n",
       " <tf.Variable 'Layer1/bias:0' shape=(2,) dtype=float32, numpy=array([0.36463037, 0.3022959 ], dtype=float32)>]"
      ]
     },
     "execution_count": 10,
     "metadata": {},
     "output_type": "execute_result"
    }
   ],
   "source": [
    "model.weights"
   ]
  },
  {
   "cell_type": "code",
   "execution_count": 11,
   "id": "a2d81455",
   "metadata": {},
   "outputs": [],
   "source": [
    "l = model.layers[0]"
   ]
  },
  {
   "cell_type": "code",
   "execution_count": 12,
   "id": "609c2ce1",
   "metadata": {},
   "outputs": [
    {
     "data": {
      "text/plain": [
       "[<tf.Variable 'Layer1/kernel:0' shape=(2, 2) dtype=float32, numpy=\n",
       " array([[-0.56028825,  0.9031692 ],\n",
       "        [ 0.30473775,  1.2093655 ]], dtype=float32)>,\n",
       " <tf.Variable 'Layer1/bias:0' shape=(2,) dtype=float32, numpy=array([0.36463037, 0.3022959 ], dtype=float32)>]"
      ]
     },
     "execution_count": 12,
     "metadata": {},
     "output_type": "execute_result"
    }
   ],
   "source": [
    "l.weights "
   ]
  },
  {
   "cell_type": "code",
   "execution_count": 13,
   "id": "ba1a0260",
   "metadata": {},
   "outputs": [
    {
     "data": {
      "text/plain": [
       "<tf.Tensor: shape=(2,), dtype=float32, numpy=array([-9.926921, 21.993778], dtype=float32)>"
      ]
     },
     "execution_count": 13,
     "metadata": {},
     "output_type": "execute_result"
    }
   ],
   "source": [
    "(20.0 * l.weights[0][0]) + (3.0 * l.weights[0][1]) + ( l.weights[1])"
   ]
  },
  {
   "cell_type": "code",
   "execution_count": 14,
   "id": "e61f0296",
   "metadata": {},
   "outputs": [
    {
     "name": "stdout",
     "output_type": "stream",
     "text": [
      "1/1 [==============================] - 0s 160ms/step\n"
     ]
    },
    {
     "data": {
      "text/plain": [
       "array([[-9.926921, 21.993778]], dtype=float32)"
      ]
     },
     "execution_count": 14,
     "metadata": {},
     "output_type": "execute_result"
    }
   ],
   "source": [
    " model.predict([[20.0, 3.0]])"
   ]
  },
  {
   "cell_type": "code",
   "execution_count": 15,
   "id": "d54f6c5c",
   "metadata": {},
   "outputs": [
    {
     "name": "stdout",
     "output_type": "stream",
     "text": [
      "You must install pydot (`pip install pydot`) and install graphviz (see instructions at https://graphviz.gitlab.io/download/) for plot_model to work.\n"
     ]
    }
   ],
   "source": [
    "# Plot the model\n",
    "tf.keras.utils.plot_model(model) "
   ]
  },
  {
   "cell_type": "code",
   "execution_count": null,
   "id": "f131125f",
   "metadata": {},
   "outputs": [],
   "source": []
  },
  {
   "cell_type": "code",
   "execution_count": null,
   "id": "189c2afa",
   "metadata": {},
   "outputs": [],
   "source": []
  }
 ],
 "metadata": {
  "kernelspec": {
   "display_name": "Python 3 (ipykernel)",
   "language": "python",
   "name": "python3"
  },
  "language_info": {
   "codemirror_mode": {
    "name": "ipython",
    "version": 3
   },
   "file_extension": ".py",
   "mimetype": "text/x-python",
   "name": "python",
   "nbconvert_exporter": "python",
   "pygments_lexer": "ipython3",
   "version": "3.10.9"
  }
 },
 "nbformat": 4,
 "nbformat_minor": 5
}
