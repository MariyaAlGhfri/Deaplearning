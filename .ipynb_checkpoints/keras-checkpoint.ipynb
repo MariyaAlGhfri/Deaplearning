{
 "cells": [
  {
   "cell_type": "code",
   "execution_count": 5,
   "id": "85d669a3",
   "metadata": {},
   "outputs": [],
   "source": [
    "import tensorflow as tf"
   ]
  },
  {
   "cell_type": "code",
   "execution_count": null,
   "id": "ea916995",
   "metadata": {},
   "outputs": [],
   "source": [
    "pip install tensorflow"
   ]
  },
  {
   "cell_type": "code",
   "execution_count": 6,
   "id": "2a12af69",
   "metadata": {},
   "outputs": [],
   "source": [
    "model = tf.keras.models.Sequential([\n",
    "                                    tf.keras.layers.Input(shape=[1], name=\"Input_Layer\"),\n",
    "                                    tf.keras.layers.Dense(3, activation=\"relu\", name=\"First_Layer\"),\n",
    "                                    tf.keras.layers.Dense(1, activation=\"relu\",name=\"Output_Layer\"),\n",
    "                                    ])"
   ]
  },
  {
   "cell_type": "code",
   "execution_count": 7,
   "id": "e63af327",
   "metadata": {},
   "outputs": [
    {
     "name": "stdout",
     "output_type": "stream",
     "text": [
      "You must install pydot (`pip install pydot`) and install graphviz (see instructions at https://graphviz.gitlab.io/download/) for plot_model to work.\n"
     ]
    }
   ],
   "source": [
    "tf.keras.utils.plot_model(model)"
   ]
  },
  {
   "cell_type": "code",
   "execution_count": 10,
   "id": "f2d83436",
   "metadata": {},
   "outputs": [
    {
     "name": "stdout",
     "output_type": "stream",
     "text": [
      "Requirement already satisfied: pydot in c:\\users\\mariya\\anaconda3\\lib\\site-packages (1.4.2)\n",
      "Requirement already satisfied: pyparsing>=2.1.4 in c:\\users\\mariya\\anaconda3\\lib\\site-packages (from pydot) (3.0.9)\n",
      "Note: you may need to restart the kernel to use updated packages.\n"
     ]
    }
   ],
   "source": [
    "pip install pydot"
   ]
  },
  {
   "cell_type": "code",
   "execution_count": 11,
   "id": "8a9cc446",
   "metadata": {},
   "outputs": [],
   "source": [
    "input_layer = tf.keras.layers.Input(shape=[1], name=\"Input_layer\")\n",
    "layer_1 = tf.keras.layers.Dense(2, name=\"First_Layer\")(input_layer)\n",
    "output_layer = tf.keras.layers.Dense(1, name=\"Output_layer\")(layer_1)"
   ]
  },
  {
   "cell_type": "code",
   "execution_count": 12,
   "id": "07024b3c",
   "metadata": {},
   "outputs": [],
   "source": [
    "model = tf.keras.Model(inputs=input_layer, outputs=output_layer) "
   ]
  },
  {
   "cell_type": "code",
   "execution_count": 13,
   "id": "a91ab245",
   "metadata": {},
   "outputs": [
    {
     "name": "stdout",
     "output_type": "stream",
     "text": [
      "You must install pydot (`pip install pydot`) and install graphviz (see instructions at https://graphviz.gitlab.io/download/) for plot_model to work.\n"
     ]
    }
   ],
   "source": [
    "tf.keras.utils.plot_model(model) "
   ]
  },
  {
   "cell_type": "code",
   "execution_count": 14,
   "id": "0e718a12",
   "metadata": {},
   "outputs": [],
   "source": [
    "input_layer = tf.keras.layers.Input(shape=[10])\n",
    "hidden1 = tf.keras.layers.Dense(30, activation=\"relu\", name=\"hidden_layer_1\")(input_layer)\n",
    "hidden2 = tf.keras.layers.Dense(30, activation=\"relu\", name=\"hidden_layer_2\")(hidden1)\n",
    "concat = tf.keras.layers.Concatenate()([input_layer, hidden2])\n",
    "output = tf.keras.layers.Dense(1)(concat)"
   ]
  },
  {
   "cell_type": "code",
   "execution_count": 15,
   "id": "22234631",
   "metadata": {},
   "outputs": [],
   "source": [
    "model = tf.keras.Model(inputs=[input_layer], outputs=[output]) "
   ]
  },
  {
   "cell_type": "code",
   "execution_count": 16,
   "id": "5c36e0d5",
   "metadata": {},
   "outputs": [
    {
     "name": "stdout",
     "output_type": "stream",
     "text": [
      "You must install pydot (`pip install pydot`) and install graphviz (see instructions at https://graphviz.gitlab.io/download/) for plot_model to work.\n"
     ]
    }
   ],
   "source": [
    "tf.keras.utils.plot_model(model, show_shapes=True) "
   ]
  },
  {
   "cell_type": "code",
   "execution_count": 17,
   "id": "6b331da7",
   "metadata": {},
   "outputs": [],
   "source": [
    "input_A = tf.keras.layers.Input(shape=[5], name=\"input_A\")\n",
    "input_B = tf.keras.layers.Input(shape=[6], name=\"input_B\")\n",
    "hidden1 = tf.keras.layers.Dense(30, activation=\"relu\", name=\"hidden_1\")(input_B)\n",
    "hidden2 = tf.keras.layers.Dense(30, activation=\"relu\", name=\"hidden_2\")(hidden1)\n",
    "concat = tf.keras.layers.concatenate([input_A, hidden2])\n",
    "output = tf.keras.layers.Dense(1, name=\"output\")(concat)"
   ]
  },
  {
   "cell_type": "code",
   "execution_count": 18,
   "id": "0eb405e5",
   "metadata": {},
   "outputs": [],
   "source": [
    "model = tf.keras.Model(inputs=[input_A, input_B], outputs=[output]) "
   ]
  },
  {
   "cell_type": "code",
   "execution_count": 19,
   "id": "03282428",
   "metadata": {},
   "outputs": [
    {
     "name": "stdout",
     "output_type": "stream",
     "text": [
      "You must install pydot (`pip install pydot`) and install graphviz (see instructions at https://graphviz.gitlab.io/download/) for plot_model to work.\n"
     ]
    }
   ],
   "source": [
    "tf.keras.utils.plot_model(model, show_shapes=True) "
   ]
  },
  {
   "cell_type": "code",
   "execution_count": null,
   "id": "e7111008",
   "metadata": {},
   "outputs": [],
   "source": []
  },
  {
   "cell_type": "code",
   "execution_count": null,
   "id": "68a974c7",
   "metadata": {},
   "outputs": [],
   "source": []
  },
  {
   "cell_type": "code",
   "execution_count": null,
   "id": "34124dab",
   "metadata": {},
   "outputs": [],
   "source": []
  }
 ],
 "metadata": {
  "kernelspec": {
   "display_name": "Python 3 (ipykernel)",
   "language": "python",
   "name": "python3"
  },
  "language_info": {
   "codemirror_mode": {
    "name": "ipython",
    "version": 3
   },
   "file_extension": ".py",
   "mimetype": "text/x-python",
   "name": "python",
   "nbconvert_exporter": "python",
   "pygments_lexer": "ipython3",
   "version": "3.10.9"
  }
 },
 "nbformat": 4,
 "nbformat_minor": 5
}
