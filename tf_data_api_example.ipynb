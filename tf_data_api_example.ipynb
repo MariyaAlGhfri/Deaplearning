{
 "cells": [
  {
   "cell_type": "code",
   "execution_count": 3,
   "id": "3838f1e9",
   "metadata": {},
   "outputs": [],
   "source": [
    "import numpy as np\n",
    "import tensorflow as tf\n",
    "from tensorflow.keras.datasets.fashion_mnist import load_data\n",
    "from tensorflow.keras.layers import Dense, Flatten\n",
    "from tensorflow.keras.models import Sequential\n",
    "from matplotlib import pyplot as plt"
   ]
  },
  {
   "cell_type": "code",
   "execution_count": 4,
   "id": "451b4266",
   "metadata": {},
   "outputs": [],
   "source": [
    "(train_image, train_label), (test_image, test_label) = load_data()"
   ]
  },
  {
   "cell_type": "code",
   "execution_count": 5,
   "id": "e86fdbf7",
   "metadata": {},
   "outputs": [],
   "source": [
    " def shuffle_generator(image, label, seed):\n",
    "    idx = np.arange(len(image))\n",
    "    np.random.default_rng(seed).shuffle(idx)\n",
    "    for i in idx:\n",
    "        yield image[i], label[i]"
   ]
  },
  {
   "cell_type": "code",
   "execution_count": 6,
   "id": "ad6223ad",
   "metadata": {},
   "outputs": [],
   "source": [
    "dataset = tf.data.Dataset.from_generator(\n",
    "    shuffle_generator,\n",
    "    args=[train_image, train_label, 42],\n",
    "    output_signature=(\n",
    "        tf.TensorSpec(shape=(28,28), dtype=tf.uint8),\n",
    "        tf.TensorSpec(shape=(), dtype=tf.uint8)))"
   ]
  },
  {
   "cell_type": "code",
   "execution_count": 7,
   "id": "5976b8d7",
   "metadata": {},
   "outputs": [],
   "source": [
    " model = Sequential([\n",
    "    Flatten(input_shape=(28,28)),\n",
    "    Dense(100, activation=\"relu\"),\n",
    "    Dense(100, activation=\"relu\"),\n",
    "    Dense(10, activation=\"sigmoid\")\n",
    "])"
   ]
  },
  {
   "cell_type": "code",
   "execution_count": 8,
   "id": "2d6c04c2",
   "metadata": {},
   "outputs": [],
   "source": [
    "model.compile(optimizer=\"adam\", loss=tf.keras.losses.sparse_categorical_crossentropy) "
   ]
  },
  {
   "cell_type": "code",
   "execution_count": 10,
   "id": "a68c460c",
   "metadata": {},
   "outputs": [
    {
     "name": "stdout",
     "output_type": "stream",
     "text": [
      "Epoch 1/5\n",
      "1875/1875 [==============================] - 19s 10ms/step - loss: 0.4538 - val_loss: 0.4819\n",
      "Epoch 2/5\n",
      "1875/1875 [==============================] - 18s 10ms/step - loss: 0.4229 - val_loss: 0.4422\n",
      "Epoch 3/5\n",
      "1875/1875 [==============================] - 18s 9ms/step - loss: 0.4074 - val_loss: 0.4390\n",
      "Epoch 4/5\n",
      "1875/1875 [==============================] - 18s 10ms/step - loss: 0.4010 - val_loss: 0.4543\n",
      "Epoch 5/5\n",
      "1875/1875 [==============================] - 19s 10ms/step - loss: 0.3963 - val_loss: 0.4629\n"
     ]
    }
   ],
   "source": [
    "history = model.fit(dataset.batch(32),\n",
    "                    epochs=5,\n",
    "                    validation_data=(test_image, test_label))"
   ]
  },
  {
   "cell_type": "code",
   "execution_count": 11,
   "id": "1c92b193",
   "metadata": {},
   "outputs": [
    {
     "name": "stdout",
     "output_type": "stream",
     "text": [
      "313/313 [==============================] - 1s 3ms/step - loss: 0.4629\n"
     ]
    },
    {
     "data": {
      "text/plain": [
       "0.4628755450248718"
      ]
     },
     "execution_count": 11,
     "metadata": {},
     "output_type": "execute_result"
    }
   ],
   "source": [
    "model.evaluate(test_image, test_label) "
   ]
  },
  {
   "cell_type": "code",
   "execution_count": 12,
   "id": "ae491584",
   "metadata": {},
   "outputs": [
    {
     "data": {
      "image/png": "[encoded data removed]",
      "text/plain": [
       "<Figure size 640x480 with 1 Axes>"
      ]
     },
     "metadata": {},
     "output_type": "display_data"
    }
   ],
   "source": [
    "plt.plot(history.history[\"loss\"])\n",
    "plt.show()"
   ]
  },
  {
   "cell_type": "code",
   "execution_count": null,
   "id": "2430989b",
   "metadata": {},
   "outputs": [],
   "source": []
  }
 ],
 "metadata": {
  "kernelspec": {
   "display_name": "Python 3 (ipykernel)",
   "language": "python",
   "name": "python3"
  },
  "language_info": {
   "codemirror_mode": {
    "name": "ipython",
    "version": 3
   },
   "file_extension": ".py",
   "mimetype": "text/x-python",
   "name": "python",
   "nbconvert_exporter": "python",
   "pygments_lexer": "ipython3",
   "version": "3.10.9"
  }
 },
 "nbformat": 4,
 "nbformat_minor": 5
}
